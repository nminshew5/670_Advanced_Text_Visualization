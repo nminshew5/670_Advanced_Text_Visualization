{
 "cells": [
  {
   "cell_type": "markdown",
   "metadata": {
    "slideshow": {
     "slide_type": "-"
    }
   },
   "source": [
    "# Advanced Visualization of Social Media Analytics and Web Mining\n",
    "### Noah Minshew\n",
    "_\"On my honor, as a student, I have neither given nor received unauthorized aid on this academic work.\"_\n",
    "___"
   ]
  },
  {
   "cell_type": "markdown",
   "metadata": {},
   "source": [
    "## Overview\n",
    "The purpose of this tutorial is to demonstrate advanced visualization techniques for social media analytics and web mining concepts. \n",
    "> A common problem that data scientists run into is having trouble explaining their findings to those who are not familiar with analytics. This is very important in the business environment, when the findings from data can help to drive decision making. It is vital for the data scientist to make his or her findings easily understandable and actionable.\n",
    "\n",
    ">The solution to this problem is using visualization techniques that make understanding models, features, and findings easy and intuitive. Not only are visualizations useful for those who are not familiar with data science and analytics, they can also help even the most experienced data scientists better understand their work. "
   ]
  },
  {
   "cell_type": "markdown",
   "metadata": {},
   "source": [
    "## Outline of Topics and Packages Covered\n",
    "* Setup and Install Packages\n",
    "* Import Packages\n",
    "* Basic Descriptive Text Analytics Visualization\n",
    " * Loading and preparing data\n",
    " * Matplot Visualization of Word Frequency\n",
    " * Seaborn Visualization of Word Frequency\n",
    "* Scattertext for Descriptive Text Analytics\n",
    "  * Data Processing Using Scattertext\n",
    "  * Creating Corpus using scatter text and spaCY\n",
    "  * Visualizing Terms and Associations with Scattertext\n",
    "* Topic Modeling Visualization with Scattertext and Empath\n",
    "* Text Classification Visualization with Scattertext and SKlearn\n",
    "* Sentiment Analysis and Visualization\n",
    " * Visualizing Sentiment with Semiotic Squares"
   ]
  },
  {
   "cell_type": "markdown",
   "metadata": {},
   "source": [
    "## Package Installation\n",
    "* Seaborn\n",
    " * Seaborn is a Python visualization library based on matplotlib. It provides a high-level interface for drawing attractive statistical graphics.\n",
    " * https://seaborn.pydata.org/\n",
    " * pip install seaborn or conda install seaborn\n",
    "* Bokeh\n",
    " * Bokeh is a Python interactive visualization library that targets modern web browsers for presentation. \n",
    " * https://bokeh.pydata.org/en/latest/\n",
    " * pip install bokeh or conda install bokeh\n",
    "* NLTK\n",
    " * Package for text analytics\n",
    " * pip install NLTK\n",
    "* Scattertext\n",
    " * A tool for finding distinguishing terms in small-to-medium-sized corpora, and presenting them in a sexy, interactive scatter plot with non-overlapping term labels. Exploratory data analysis just got more fun.\n",
    " * https://github.com/JasonKessler/scattertext#installation\n",
    " * pip install scattertext\n",
    " * We will also need some additional packages to use Scattertext: \n",
    "* SpaCY\n",
    " * https://spacy.io/usage/\n",
    " * conda install -c conda-forge spacy __or__ pip install -U spacy\n",
    " * Now you need to download a language model. \n",
    " * Make sure to run command promt as administrator\n",
    "  * python -m spacy download en\n",
    "* Jieba\n",
    " * https://github.com/fxsjy/jieba\n",
    " * pip install jieba\n",
    "* Empath \n",
    " * https://github.com/Ejhfast/empath-client\n",
    " * Find out more here: https://arxiv.org/pdf/1602.06979.pdf\n",
    " * pip install empath\n",
    "* Gensim  \n",
    " * https://radimrehurek.com/gensim/\n",
    " * conda install -c anaconda gensim\n",
    "* UMAP\n",
    " * https://github.com/lmcinnes/umap\n",
    " * pip install umap\n",
    "   \n",
    "\n",
    "** Note: Some of these packages may require Python 3.6 and will not work on python 2.7**"
   ]
  },
  {
   "cell_type": "markdown",
   "metadata": {},
   "source": [
    "## Import Packages"
   ]
  },
  {
   "cell_type": "code",
   "execution_count": 2,
   "metadata": {
    "collapsed": true
   },
   "outputs": [],
   "source": [
    "#CSV\n",
    "import csv\n",
    "from collections import Counter\n",
    "\n",
    "#pandas\n",
    "import pandas as pd\n",
    "\n",
    "#Matplotlib\n",
    "import matplotlib.pyplot as plt\n",
    "% matplotlib inline\n",
    "\n",
    "#numpy\n",
    "import numpy as np\n",
    "\n",
    "# nltk\n",
    "import nltk\n",
    "# stopwords, FreqDist, word_tokenize\n",
    "from nltk.corpus import stopwords\n",
    "from nltk import FreqDist, word_tokenize\n",
    "from nltk.stem.porter import PorterStemmer\n",
    "from nltk.stem import WordNetLemmatizer\n",
    "from nltk.corpus import stopwords\n",
    "\n",
    "#regular expression\n",
    "import re\n",
    "\n",
    "#seaborn\n",
    "import seaborn as sns\n",
    "\n",
    "#import packages for scatter text\n",
    "import scattertext as st\n",
    "import spacy\n",
    "from pprint import pprint\n",
    "import en_core_web_sm\n",
    "\n",
    "#SKlearn packages\n",
    "import sklearn\n",
    "from lightning.classification import CDClassifier\n",
    "from sklearn.feature_extraction.text import CountVectorizer, TfidfVectorizer\n",
    "# feature engineering (words to vectors)\n",
    "from sklearn.feature_extraction.text import TfidfVectorizer\n",
    "# classification algorithms (or classifiers)\n",
    "from sklearn.naive_bayes import MultinomialNB\n",
    "from sklearn.neighbors import KNeighborsClassifier\n",
    "from sklearn.svm import SVC, LinearSVC\n",
    "# build a pipeline\n",
    "from sklearn.pipeline import Pipeline\n",
    "# model evaluation, validation\n",
    "from sklearn.metrics import classification_report, f1_score, accuracy_score, confusion_matrix\n",
    "from sklearn.model_selection import StratifiedKFold, cross_val_score, train_test_split, GridSearchCV \n",
    "from sklearn import metrics\n",
    "from sklearn.metrics import roc_curve, auc\n",
    "#pip install scikit-plot \n",
    "import scikitplot as skplt"
   ]
  },
  {
   "cell_type": "markdown",
   "metadata": {},
   "source": [
    "# Basic Descriptive Text Analytics Visualization\n",
    "> Using the 2016 presidential debates dataset <br>\n",
    "https://www.kaggle.com/mrisdal/2016-us-presidential-debates/data\n",
    "\n",
    "> We are going to start with reviewing some basic visualization of word frequency. In order to do this we will have to load, clean and preprocess data. Once this is done we can visualize basic word frequency.  "
   ]
  },
  {
   "cell_type": "markdown",
   "metadata": {},
   "source": [
    "#### Loading and preparing the data"
   ]
  },
  {
   "cell_type": "code",
   "execution_count": 3,
   "metadata": {},
   "outputs": [
    {
     "data": {
      "text/html": [
       "<div>\n",
       "<style scoped>\n",
       "    .dataframe tbody tr th:only-of-type {\n",
       "        vertical-align: middle;\n",
       "    }\n",
       "\n",
       "    .dataframe tbody tr th {\n",
       "        vertical-align: top;\n",
       "    }\n",
       "\n",
       "    .dataframe thead th {\n",
       "        text-align: right;\n",
       "    }\n",
       "</style>\n",
       "<table border=\"1\" class=\"dataframe\">\n",
       "  <thead>\n",
       "    <tr style=\"text-align: right;\">\n",
       "      <th></th>\n",
       "      <th>Line</th>\n",
       "      <th>Speaker</th>\n",
       "      <th>Text</th>\n",
       "      <th>Date</th>\n",
       "    </tr>\n",
       "  </thead>\n",
       "  <tbody>\n",
       "    <tr>\n",
       "      <th>0</th>\n",
       "      <td>1</td>\n",
       "      <td>Holt</td>\n",
       "      <td>Good evening from Hofstra University in Hempst...</td>\n",
       "      <td>9/26/2016</td>\n",
       "    </tr>\n",
       "  </tbody>\n",
       "</table>\n",
       "</div>"
      ],
      "text/plain": [
       "   Line Speaker                                               Text       Date\n",
       "0     1    Holt  Good evening from Hofstra University in Hempst...  9/26/2016"
      ]
     },
     "execution_count": 3,
     "metadata": {},
     "output_type": "execute_result"
    }
   ],
   "source": [
    "#Use pandas to load csv into dataframe (df)\n",
    "df = pd.read_csv(\"data/debate.csv\", encoding = 'iso-8859-1')\n",
    "df.head(1)"
   ]
  },
  {
   "cell_type": "markdown",
   "metadata": {},
   "source": [
    "##### We only want the data from Trump and Clinton"
   ]
  },
  {
   "cell_type": "code",
   "execution_count": 4,
   "metadata": {
    "collapsed": true
   },
   "outputs": [],
   "source": [
    "#remove the line and date columns, we do not need them. \n",
    "del df['Line']\n",
    "del df['Date']\n",
    "\n",
    "#create seperate dataframes for trump and clinton. \n",
    "df_clinton = df[df.Speaker==\"Clinton\"].copy()\n",
    "df_trump = df[df.Speaker==\"Trump\"].copy()\n",
    "\n",
    "#now we can drop the speaker column from each\n",
    "df_trump = df_trump.drop('Speaker', axis=1)\n",
    "df_clinton = df_clinton.drop('Speaker', axis=1)"
   ]
  },
  {
   "cell_type": "markdown",
   "metadata": {},
   "source": [
    "##### Transform Clinton and Trump data from dataframe to list"
   ]
  },
  {
   "cell_type": "code",
   "execution_count": 5,
   "metadata": {
    "collapsed": true
   },
   "outputs": [],
   "source": [
    "#use .values.tolist() to transform dataframe into list\n",
    "clinton = df_clinton.values.tolist()\n",
    "trump = df_trump.values.tolist()"
   ]
  },
  {
   "cell_type": "markdown",
   "metadata": {},
   "source": [
    "#### Tokenization and Data Preprocessing\n",
    "> Convert to string, make all characters lowercase, get rid of non alpha-numeric characters, tokenize words, remove stopwords, remove short words, create frequency distribution using nltk."
   ]
  },
  {
   "cell_type": "code",
   "execution_count": 6,
   "metadata": {
    "collapsed": true
   },
   "outputs": [],
   "source": [
    "tokens = str(trump)\n",
    "tokens = tokens.lower()\n",
    "tokens = re.sub(\"[^a-zA-Z0-9]\", \" \", tokens)\n",
    "tokens = word_tokenize(tokens)\n",
    "wordnet_lemmatizer = WordNetLemmatizer()\n",
    "tokens = (wordnet_lemmatizer.lemmatize(word) for word in tokens)\n",
    "more_stopwords = set(('will', 'people', 'need', 'think', 'well','going', 'can', 'country', 'know', 'lot', 'get','make','way','president', 'want',\n",
    "                'like','say','got','said','just','something','tell','put','now', 'bad','back','want','right','every','one','use','come','never', \n",
    "                'many','along','things','day','also','first','guy', 'great', 'take', 'good', 'much','anderson', 'let', 'would', 'year', 'thing', 'america',\n",
    "                'talk', 'talking', 'thank', 'does', 'give', 'look', 'believe', 'tonight','today','see'))\n",
    "extra_stoplist = set(stopwords.words('english')) | more_stopwords\n",
    "tokens = (word for word in tokens if word not in extra_stoplist)\n",
    "tokens = (word for word in tokens if word.isalpha())\n",
    "trump_tokens = (word for word in tokens if len(word) >= 3)\n",
    "fdist_trump = nltk.FreqDist(trump_tokens) "
   ]
  },
  {
   "cell_type": "code",
   "execution_count": 7,
   "metadata": {
    "collapsed": true
   },
   "outputs": [],
   "source": [
    "tokens = str(clinton)\n",
    "tokens = tokens.lower()\n",
    "tokens = re.sub(\"[^a-zA-Z0-9]\", \" \", tokens)\n",
    "tokens = word_tokenize(tokens)\n",
    "wordnet_lemmatizer = WordNetLemmatizer()\n",
    "tokens = (wordnet_lemmatizer.lemmatize(word) for word in tokens)\n",
    "more_stopwords = set(('will', 'people', 'need', 'think', 'well','going', 'can', 'country', 'know', 'lot', 'get','make','way','president', 'want',\n",
    "                'like','say','got','said','just','something','tell','put','now', 'bad','back','want','right','every','one','use','come','never', \n",
    "                'many','along','things','day','also','first','guy', 'great', 'take', 'good', 'much','anderson', 'let', 'would', 'year', 'thing', 'america',\n",
    "                'talk', 'talking', 'thank', 'does', 'give', 'look', 'believe', 'tonight','today','see'))\n",
    "extra_stoplist = set(stopwords.words('english')) | more_stopwords\n",
    "tokens = (word for word in tokens if word not in extra_stoplist)\n",
    "tokens = (word for word in tokens if word.isalpha())\n",
    "clinton_tokens = (word for word in tokens if len(word) >= 3)\n",
    "fdist_clinton = nltk.FreqDist(clinton_tokens) "
   ]
  },
  {
   "cell_type": "markdown",
   "metadata": {},
   "source": [
    "#### Lets Plot the Word Frequency for Trump and Clinton using matplot lib.  \n",
    ">This is a very simple method to plot the frequency distributions that we created above. The words are plotted on the X axis and the frequency is plotted on the Y axis. In these graphs we only show the top 30 words for each candidate to improve readability. Trump is on the top, Clinton is on the bottom. "
   ]
  },
  {
   "cell_type": "code",
   "execution_count": 8,
   "metadata": {},
   "outputs": [
    {
     "data": {
      "image/png": "[encoded data removed]",
      "text/plain": [
       "<matplotlib.figure.Figure at 0x1d820ca3748>"
      ]
     },
     "metadata": {},
     "output_type": "display_data"
    },
    {
     "data": {
      "image/png": "[encoded data removed]",
      "text/plain": [
       "<matplotlib.figure.Figure at 0x1d820d20cf8>"
      ]
     },
     "metadata": {},
     "output_type": "display_data"
    }
   ],
   "source": [
    "plt.figure(figsize=(10,3))\n",
    "fdist_trump.plot(30)\n",
    "\n",
    "plt.figure(figsize=(10,3))\n",
    "fdist_clinton.plot(30)"
   ]
  },
  {
   "cell_type": "markdown",
   "metadata": {},
   "source": [
    "### These work, but we can build much better looking and easier to understand charts with seaborn. \n",
    "> First,  we need to reformat the data to meet our needs. Seaborn makes it easy to use data frames, so we are going to combine the freqency lists into one dataframe. \n"
   ]
  },
  {
   "cell_type": "markdown",
   "metadata": {},
   "source": [
    "##### Convert frequency distributions into dataframes"
   ]
  },
  {
   "cell_type": "code",
   "execution_count": 9,
   "metadata": {
    "collapsed": true
   },
   "outputs": [],
   "source": [
    "freq_word_clinton = []\n",
    "# two values or columns in fdist_a\n",
    "for k,v in fdist_clinton.items():\n",
    "    freq_word_clinton.append([k,v, 'Clinton'])\n",
    "#make it like an Excel worksheet\n",
    "wordlist_clinton = pd.DataFrame(freq_word_clinton)"
   ]
  },
  {
   "cell_type": "code",
   "execution_count": 10,
   "metadata": {
    "collapsed": true
   },
   "outputs": [],
   "source": [
    "freq_word_trump = []\n",
    "# two values or columns in fdist_a\n",
    "for k,v in fdist_trump.items():\n",
    "    freq_word_trump.append([k,v, 'Trump'])\n",
    "#make it like an Excel worksheet\n",
    "wordlist_trump = pd.DataFrame(freq_word_trump)"
   ]
  },
  {
   "cell_type": "markdown",
   "metadata": {},
   "source": [
    "##### Combine the two frequency distributions into one dataframe"
   ]
  },
  {
   "cell_type": "code",
   "execution_count": 11,
   "metadata": {
    "collapsed": true
   },
   "outputs": [],
   "source": [
    "df3 = wordlist_clinton.append(wordlist_trump)\n",
    "df3 = df3.rename(columns={0: 'word', 1: 'freq', 2: 'speaker'})\n",
    "df4 = df3.sort_values(by=['freq'], ascending=False).head(40)"
   ]
  },
  {
   "cell_type": "code",
   "execution_count": 12,
   "metadata": {
    "collapsed": true
   },
   "outputs": [],
   "source": [
    "df4 = df3.sort_values(by=['freq'], ascending=False).head(30)"
   ]
  },
  {
   "cell_type": "markdown",
   "metadata": {},
   "source": [
    "# Seaborn Visualization\n",
    "\n",
    "Using seaborn we can show both canidates word frequency on a single chart. We will use factorplot to do this.<br> https://seaborn.pydata.org/generated/seaborn.factorplot.html#seaborn.factorplot\n",
    ">* Set our X values to frequency\n",
    "* Set our Y values to word\n",
    "\n",
    ">* We want a bar chart (kind = bar)\n",
    "* We want a horizontal orientation (orient = h)\n",
    "\n",
    ">* We can also set colors to represent categories\n",
    " * Trump: Red (Republican Party Color)\n",
    " * Clinton: Blue (Democratic Party Color)\n",
    " * palette=dict(Trump = \"#D65F5F\", Clinton = \"#4878CF\")"
   ]
  },
  {
   "cell_type": "code",
   "execution_count": 13,
   "metadata": {},
   "outputs": [
    {
     "data": {
      "text/plain": [
       "<seaborn.axisgrid.FacetGrid at 0x1d820ca3e48>"
      ]
     },
     "execution_count": 13,
     "metadata": {},
     "output_type": "execute_result"
    },
    {
     "data": {
      "image/png": "[encoded data removed]",
      "text/plain": [
       "<matplotlib.figure.Figure at 0x1d820d1b630>"
      ]
     },
     "metadata": {},
     "output_type": "display_data"
    }
   ],
   "source": [
    "import seaborn as sns\n",
    "sns.set(style=\"whitegrid\")\n",
    "sns.set_context(\"talk\")\n",
    "sns.color_palette(palette=None, n_colors=None, desat=None)\n",
    "\n",
    "g = sns.factorplot(x=\"freq\", y=\"word\", hue=\"speaker\", data=df4,\n",
    "                   size=20, kind=\"bar\", aspect=.7,\n",
    "                   palette=dict(Trump = \"#D65F5F\", Clinton = \"#4878CF\"), orient=\"h\")\n",
    "g.despine(left=True)\n",
    "g.set_ylabels(\"Common Words in Debate\")"
   ]
  },
  {
   "cell_type": "markdown",
   "metadata": {},
   "source": [
    "#### We can adapt this into a factor plot easily. "
   ]
  },
  {
   "cell_type": "code",
   "execution_count": 14,
   "metadata": {
    "collapsed": true
   },
   "outputs": [],
   "source": [
    "df4 = df3.sort_values(by=['freq'], ascending=False).head(30)"
   ]
  },
  {
   "cell_type": "code",
   "execution_count": 15,
   "metadata": {},
   "outputs": [
    {
     "data": {
      "text/plain": [
       "<seaborn.axisgrid.FacetGrid at 0x1d820d40e48>"
      ]
     },
     "execution_count": 15,
     "metadata": {},
     "output_type": "execute_result"
    },
    {
     "data": {
      "image/png": "[encoded data removed]",
      "text/plain": [
       "<matplotlib.figure.Figure at 0x1d820d03d68>"
      ]
     },
     "metadata": {},
     "output_type": "display_data"
    }
   ],
   "source": [
    "import seaborn as sns\n",
    "sns.set(style=\"whitegrid\")\n",
    "sns.set_context(\"talk\")\n",
    "sns.color_palette(palette=None, n_colors=None, desat=None)\n",
    "\n",
    "g = sns.factorplot(x=\"word\", y=\"freq\", hue=\"speaker\", data=df4,\n",
    "                   size=15, aspect=1.2,\n",
    "                   palette=dict(Trump = \"#D65F5F\", Clinton = \"#4878CF\"))\n",
    "g.despine(left=True)\n",
    "g.set_ylabels(\"Frequency\")"
   ]
  },
  {
   "cell_type": "markdown",
   "metadata": {},
   "source": [
    "## Bokeh Visualization"
   ]
  },
  {
   "cell_type": "markdown",
   "metadata": {},
   "source": [
    "Adapt bokeh chart to our data set for final draft<br>\n",
    "https://bokeh.pydata.org/en/latest/\n",
    "<br>from bokeh.io import curdoc <br>\n",
    "curdoc().clear()"
   ]
  },
  {
   "cell_type": "code",
   "execution_count": 16,
   "metadata": {},
   "outputs": [
    {
     "data": {
      "text/html": [
       "\n",
       "    <div class=\"bk-root\">\n",
       "        <a href=\"https://bokeh.pydata.org\" target=\"_blank\" class=\"bk-logo bk-logo-small bk-logo-notebook\"></a>\n",
       "        <span id=\"f404cfaf-6ca0-411f-9915-c7f33ad55ba1\">Loading BokehJS ...</span>\n",
       "    </div>"
      ]
     },
     "metadata": {},
     "output_type": "display_data"
    },
    {
     "data": {
      "application/javascript": [
       "\n",
       "(function(root) {\n",
       "  function now() {\n",
       "    return new Date();\n",
       "  }\n",
       "\n",
       "  var force = true;\n",
       "\n",
       "  if (typeof (root._bokeh_onload_callbacks) === \"undefined\" || force === true) {\n",
       "    root._bokeh_onload_callbacks = [];\n",
       "    root._bokeh_is_loading = undefined;\n",
       "  }\n",
       "\n",
       "  var JS_MIME_TYPE = 'application/javascript';\n",
       "  var HTML_MIME_TYPE = 'text/html';\n",
       "  var EXEC_MIME_TYPE = 'application/vnd.bokehjs_exec.v0+json';\n",
       "  var CLASS_NAME = 'output_bokeh rendered_html';\n",
       "\n",
       "  /**\n",
       "   * Render data to the DOM node\n",
       "   */\n",
       "  function render(props, node) {\n",
       "    var script = document.createElement(\"script\");\n",
       "    node.appendChild(script);\n",
       "  }\n",
       "\n",
       "  /**\n",
       "   * Handle when an output is cleared or removed\n",
       "   */\n",
       "  function handleClearOutput(event, handle) {\n",
       "    var cell = handle.cell;\n",
       "\n",
       "    var id = cell.output_area._bokeh_element_id;\n",
       "    var server_id = cell.output_area._bokeh_server_id;\n",
       "    // Clean up Bokeh references\n",
       "    if (id !== undefined) {\n",
       "      Bokeh.index[id].model.document.clear();\n",
       "      delete Bokeh.index[id];\n",
       "    }\n",
       "\n",
       "    if (server_id !== undefined) {\n",
       "      // Clean up Bokeh references\n",
       "      var cmd = \"from bokeh.io.state import curstate; print(curstate().uuid_to_server['\" + server_id + \"'].get_sessions()[0].document.roots[0]._id)\";\n",
       "      cell.notebook.kernel.execute(cmd, {\n",
       "        iopub: {\n",
       "          output: function(msg) {\n",
       "            var element_id = msg.content.text.trim();\n",
       "            Bokeh.index[element_id].model.document.clear();\n",
       "            delete Bokeh.index[element_id];\n",
       "          }\n",
       "        }\n",
       "      });\n",
       "      // Destroy server and session\n",
       "      var cmd = \"import bokeh.io.notebook as ion; ion.destroy_server('\" + server_id + \"')\";\n",
       "      cell.notebook.kernel.execute(cmd);\n",
       "    }\n",
       "  }\n",
       "\n",
       "  /**\n",
       "   * Handle when a new output is added\n",
       "   */\n",
       "  function handleAddOutput(event, handle) {\n",
       "    var output_area = handle.output_area;\n",
       "    var output = handle.output;\n",
       "\n",
       "    // limit handleAddOutput to display_data with EXEC_MIME_TYPE content only\n",
       "    if ((output.output_type != \"display_data\") || (!output.data.hasOwnProperty(EXEC_MIME_TYPE))) {\n",
       "      return\n",
       "    }\n",
       "\n",
       "    var toinsert = output_area.element.find(\".\" + CLASS_NAME.split(' ')[0]);\n",
       "\n",
       "    if (output.metadata[EXEC_MIME_TYPE][\"id\"] !== undefined) {\n",
       "      toinsert[0].firstChild.textContent = output.data[JS_MIME_TYPE];\n",
       "      // store reference to embed id on output_area\n",
       "      output_area._bokeh_element_id = output.metadata[EXEC_MIME_TYPE][\"id\"];\n",
       "    }\n",
       "    if (output.metadata[EXEC_MIME_TYPE][\"server_id\"] !== undefined) {\n",
       "      var bk_div = document.createElement(\"div\");\n",
       "      bk_div.innerHTML = output.data[HTML_MIME_TYPE];\n",
       "      var script_attrs = bk_div.children[0].attributes;\n",
       "      for (var i = 0; i < script_attrs.length; i++) {\n",
       "        toinsert[0].firstChild.setAttribute(script_attrs[i].name, script_attrs[i].value);\n",
       "      }\n",
       "      // store reference to server id on output_area\n",
       "      output_area._bokeh_server_id = output.metadata[EXEC_MIME_TYPE][\"server_id\"];\n",
       "    }\n",
       "  }\n",
       "\n",
       "  function register_renderer(events, OutputArea) {\n",
       "\n",
       "    function append_mime(data, metadata, element) {\n",
       "      // create a DOM node to render to\n",
       "      var toinsert = this.create_output_subarea(\n",
       "        metadata,\n",
       "        CLASS_NAME,\n",
       "        EXEC_MIME_TYPE\n",
       "      );\n",
       "      this.keyboard_manager.register_events(toinsert);\n",
       "      // Render to node\n",
       "      var props = {data: data, metadata: metadata[EXEC_MIME_TYPE]};\n",
       "      render(props, toinsert[0]);\n",
       "      element.append(toinsert);\n",
       "      return toinsert\n",
       "    }\n",
       "\n",
       "    /* Handle when an output is cleared or removed */\n",
       "    events.on('clear_output.CodeCell', handleClearOutput);\n",
       "    events.on('delete.Cell', handleClearOutput);\n",
       "\n",
       "    /* Handle when a new output is added */\n",
       "    events.on('output_added.OutputArea', handleAddOutput);\n",
       "\n",
       "    /**\n",
       "     * Register the mime type and append_mime function with output_area\n",
       "     */\n",
       "    OutputArea.prototype.register_mime_type(EXEC_MIME_TYPE, append_mime, {\n",
       "      /* Is output safe? */\n",
       "      safe: true,\n",
       "      /* Index of renderer in `output_area.display_order` */\n",
       "      index: 0\n",
       "    });\n",
       "  }\n",
       "\n",
       "  // register the mime type if in Jupyter Notebook environment and previously unregistered\n",
       "  if (root.Jupyter !== undefined) {\n",
       "    var events = require('base/js/events');\n",
       "    var OutputArea = require('notebook/js/outputarea').OutputArea;\n",
       "\n",
       "    if (OutputArea.prototype.mime_types().indexOf(EXEC_MIME_TYPE) == -1) {\n",
       "      register_renderer(events, OutputArea);\n",
       "    }\n",
       "  }\n",
       "\n",
       "  \n",
       "  if (typeof (root._bokeh_timeout) === \"undefined\" || force === true) {\n",
       "    root._bokeh_timeout = Date.now() + 5000;\n",
       "    root._bokeh_failed_load = false;\n",
       "  }\n",
       "\n",
       "  var NB_LOAD_WARNING = {'data': {'text/html':\n",
       "     \"<div style='background-color: #fdd'>\\n\"+\n",
       "     \"<p>\\n\"+\n",
       "     \"BokehJS does not appear to have successfully loaded. If loading BokehJS from CDN, this \\n\"+\n",
       "     \"may be due to a slow or bad network connection. Possible fixes:\\n\"+\n",
       "     \"</p>\\n\"+\n",
       "     \"<ul>\\n\"+\n",
       "     \"<li>re-rerun `output_notebook()` to attempt to load from CDN again, or</li>\\n\"+\n",
       "     \"<li>use INLINE resources instead, as so:</li>\\n\"+\n",
       "     \"</ul>\\n\"+\n",
       "     \"<code>\\n\"+\n",
       "     \"from bokeh.resources import INLINE\\n\"+\n",
       "     \"output_notebook(resources=INLINE)\\n\"+\n",
       "     \"</code>\\n\"+\n",
       "     \"</div>\"}};\n",
       "\n",
       "  function display_loaded() {\n",
       "    var el = document.getElementById(\"f404cfaf-6ca0-411f-9915-c7f33ad55ba1\");\n",
       "    if (el != null) {\n",
       "      el.textContent = \"BokehJS is loading...\";\n",
       "    }\n",
       "    if (root.Bokeh !== undefined) {\n",
       "      if (el != null) {\n",
       "        el.textContent = \"BokehJS \" + root.Bokeh.version + \" successfully loaded.\";\n",
       "      }\n",
       "    } else if (Date.now() < root._bokeh_timeout) {\n",
       "      setTimeout(display_loaded, 100)\n",
       "    }\n",
       "  }\n",
       "\n",
       "\n",
       "  function run_callbacks() {\n",
       "    try {\n",
       "      root._bokeh_onload_callbacks.forEach(function(callback) { callback() });\n",
       "    }\n",
       "    finally {\n",
       "      delete root._bokeh_onload_callbacks\n",
       "    }\n",
       "    console.info(\"Bokeh: all callbacks have finished\");\n",
       "  }\n",
       "\n",
       "  function load_libs(js_urls, callback) {\n",
       "    root._bokeh_onload_callbacks.push(callback);\n",
       "    if (root._bokeh_is_loading > 0) {\n",
       "      console.log(\"Bokeh: BokehJS is being loaded, scheduling callback at\", now());\n",
       "      return null;\n",
       "    }\n",
       "    if (js_urls == null || js_urls.length === 0) {\n",
       "      run_callbacks();\n",
       "      return null;\n",
       "    }\n",
       "    console.log(\"Bokeh: BokehJS not loaded, scheduling load and callback at\", now());\n",
       "    root._bokeh_is_loading = js_urls.length;\n",
       "    for (var i = 0; i < js_urls.length; i++) {\n",
       "      var url = js_urls[i];\n",
       "      var s = document.createElement('script');\n",
       "      s.src = url;\n",
       "      s.async = false;\n",
       "      s.onreadystatechange = s.onload = function() {\n",
       "        root._bokeh_is_loading--;\n",
       "        if (root._bokeh_is_loading === 0) {\n",
       "          console.log(\"Bokeh: all BokehJS libraries loaded\");\n",
       "          run_callbacks()\n",
       "        }\n",
       "      };\n",
       "      s.onerror = function() {\n",
       "        console.warn(\"failed to load library \" + url);\n",
       "      };\n",
       "      console.log(\"Bokeh: injecting script tag for BokehJS library: \", url);\n",
       "      document.getElementsByTagName(\"head\")[0].appendChild(s);\n",
       "    }\n",
       "  };var element = document.getElementById(\"f404cfaf-6ca0-411f-9915-c7f33ad55ba1\");\n",
       "  if (element == null) {\n",
       "    console.log(\"Bokeh: ERROR: autoload.js configured with elementid 'f404cfaf-6ca0-411f-9915-c7f33ad55ba1' but no matching script tag was found. \")\n",
       "    return false;\n",
       "  }\n",
       "\n",
       "  var js_urls = [\"https://cdn.pydata.org/bokeh/release/bokeh-0.12.13.min.js\", \"https://cdn.pydata.org/bokeh/release/bokeh-widgets-0.12.13.min.js\", \"https://cdn.pydata.org/bokeh/release/bokeh-tables-0.12.13.min.js\", \"https://cdn.pydata.org/bokeh/release/bokeh-gl-0.12.13.min.js\"];\n",
       "\n",
       "  var inline_js = [\n",
       "    function(Bokeh) {\n",
       "      Bokeh.set_log_level(\"info\");\n",
       "    },\n",
       "    \n",
       "    function(Bokeh) {\n",
       "      \n",
       "    },\n",
       "    function(Bokeh) {\n",
       "      console.log(\"Bokeh: injecting CSS: https://cdn.pydata.org/bokeh/release/bokeh-0.12.13.min.css\");\n",
       "      Bokeh.embed.inject_css(\"https://cdn.pydata.org/bokeh/release/bokeh-0.12.13.min.css\");\n",
       "      console.log(\"Bokeh: injecting CSS: https://cdn.pydata.org/bokeh/release/bokeh-widgets-0.12.13.min.css\");\n",
       "      Bokeh.embed.inject_css(\"https://cdn.pydata.org/bokeh/release/bokeh-widgets-0.12.13.min.css\");\n",
       "      console.log(\"Bokeh: injecting CSS: https://cdn.pydata.org/bokeh/release/bokeh-tables-0.12.13.min.css\");\n",
       "      Bokeh.embed.inject_css(\"https://cdn.pydata.org/bokeh/release/bokeh-tables-0.12.13.min.css\");\n",
       "    }\n",
       "  ];\n",
       "\n",
       "  function run_inline_js() {\n",
       "    \n",
       "    if ((root.Bokeh !== undefined) || (force === true)) {\n",
       "      for (var i = 0; i < inline_js.length; i++) {\n",
       "        inline_js[i].call(root, root.Bokeh);\n",
       "      }if (force === true) {\n",
       "        display_loaded();\n",
       "      }} else if (Date.now() < root._bokeh_timeout) {\n",
       "      setTimeout(run_inline_js, 100);\n",
       "    } else if (!root._bokeh_failed_load) {\n",
       "      console.log(\"Bokeh: BokehJS failed to load within specified timeout.\");\n",
       "      root._bokeh_failed_load = true;\n",
       "    } else if (force !== true) {\n",
       "      var cell = $(document.getElementById(\"f404cfaf-6ca0-411f-9915-c7f33ad55ba1\")).parents('.cell').data().cell;\n",
       "      cell.output_area.append_execute_result(NB_LOAD_WARNING)\n",
       "    }\n",
       "\n",
       "  }\n",
       "\n",
       "  if (root._bokeh_is_loading === 0) {\n",
       "    console.log(\"Bokeh: BokehJS loaded, going straight to plotting\");\n",
       "    run_inline_js();\n",
       "  } else {\n",
       "    load_libs(js_urls, function() {\n",
       "      console.log(\"Bokeh: BokehJS plotting callback run at\", now());\n",
       "      run_inline_js();\n",
       "    });\n",
       "  }\n",
       "}(window));"
      ],
      "application/vnd.bokehjs_load.v0+json": "\n(function(root) {\n  function now() {\n    return new Date();\n  }\n\n  var force = true;\n\n  if (typeof (root._bokeh_onload_callbacks) === \"undefined\" || force === true) {\n    root._bokeh_onload_callbacks = [];\n    root._bokeh_is_loading = undefined;\n  }\n\n  \n\n  \n  if (typeof (root._bokeh_timeout) === \"undefined\" || force === true) {\n    root._bokeh_timeout = Date.now() + 5000;\n    root._bokeh_failed_load = false;\n  }\n\n  var NB_LOAD_WARNING = {'data': {'text/html':\n     \"<div style='background-color: #fdd'>\\n\"+\n     \"<p>\\n\"+\n     \"BokehJS does not appear to have successfully loaded. If loading BokehJS from CDN, this \\n\"+\n     \"may be due to a slow or bad network connection. Possible fixes:\\n\"+\n     \"</p>\\n\"+\n     \"<ul>\\n\"+\n     \"<li>re-rerun `output_notebook()` to attempt to load from CDN again, or</li>\\n\"+\n     \"<li>use INLINE resources instead, as so:</li>\\n\"+\n     \"</ul>\\n\"+\n     \"<code>\\n\"+\n     \"from bokeh.resources import INLINE\\n\"+\n     \"output_notebook(resources=INLINE)\\n\"+\n     \"</code>\\n\"+\n     \"</div>\"}};\n\n  function display_loaded() {\n    var el = document.getElementById(\"f404cfaf-6ca0-411f-9915-c7f33ad55ba1\");\n    if (el != null) {\n      el.textContent = \"BokehJS is loading...\";\n    }\n    if (root.Bokeh !== undefined) {\n      if (el != null) {\n        el.textContent = \"BokehJS \" + root.Bokeh.version + \" successfully loaded.\";\n      }\n    } else if (Date.now() < root._bokeh_timeout) {\n      setTimeout(display_loaded, 100)\n    }\n  }\n\n\n  function run_callbacks() {\n    try {\n      root._bokeh_onload_callbacks.forEach(function(callback) { callback() });\n    }\n    finally {\n      delete root._bokeh_onload_callbacks\n    }\n    console.info(\"Bokeh: all callbacks have finished\");\n  }\n\n  function load_libs(js_urls, callback) {\n    root._bokeh_onload_callbacks.push(callback);\n    if (root._bokeh_is_loading > 0) {\n      console.log(\"Bokeh: BokehJS is being loaded, scheduling callback at\", now());\n      return null;\n    }\n    if (js_urls == null || js_urls.length === 0) {\n      run_callbacks();\n      return null;\n    }\n    console.log(\"Bokeh: BokehJS not loaded, scheduling load and callback at\", now());\n    root._bokeh_is_loading = js_urls.length;\n    for (var i = 0; i < js_urls.length; i++) {\n      var url = js_urls[i];\n      var s = document.createElement('script');\n      s.src = url;\n      s.async = false;\n      s.onreadystatechange = s.onload = function() {\n        root._bokeh_is_loading--;\n        if (root._bokeh_is_loading === 0) {\n          console.log(\"Bokeh: all BokehJS libraries loaded\");\n          run_callbacks()\n        }\n      };\n      s.onerror = function() {\n        console.warn(\"failed to load library \" + url);\n      };\n      console.log(\"Bokeh: injecting script tag for BokehJS library: \", url);\n      document.getElementsByTagName(\"head\")[0].appendChild(s);\n    }\n  };var element = document.getElementById(\"f404cfaf-6ca0-411f-9915-c7f33ad55ba1\");\n  if (element == null) {\n    console.log(\"Bokeh: ERROR: autoload.js configured with elementid 'f404cfaf-6ca0-411f-9915-c7f33ad55ba1' but no matching script tag was found. \")\n    return false;\n  }\n\n  var js_urls = [\"https://cdn.pydata.org/bokeh/release/bokeh-0.12.13.min.js\", \"https://cdn.pydata.org/bokeh/release/bokeh-widgets-0.12.13.min.js\", \"https://cdn.pydata.org/bokeh/release/bokeh-tables-0.12.13.min.js\", \"https://cdn.pydata.org/bokeh/release/bokeh-gl-0.12.13.min.js\"];\n\n  var inline_js = [\n    function(Bokeh) {\n      Bokeh.set_log_level(\"info\");\n    },\n    \n    function(Bokeh) {\n      \n    },\n    function(Bokeh) {\n      console.log(\"Bokeh: injecting CSS: https://cdn.pydata.org/bokeh/release/bokeh-0.12.13.min.css\");\n      Bokeh.embed.inject_css(\"https://cdn.pydata.org/bokeh/release/bokeh-0.12.13.min.css\");\n      console.log(\"Bokeh: injecting CSS: https://cdn.pydata.org/bokeh/release/bokeh-widgets-0.12.13.min.css\");\n      Bokeh.embed.inject_css(\"https://cdn.pydata.org/bokeh/release/bokeh-widgets-0.12.13.min.css\");\n      console.log(\"Bokeh: injecting CSS: https://cdn.pydata.org/bokeh/release/bokeh-tables-0.12.13.min.css\");\n      Bokeh.embed.inject_css(\"https://cdn.pydata.org/bokeh/release/bokeh-tables-0.12.13.min.css\");\n    }\n  ];\n\n  function run_inline_js() {\n    \n    if ((root.Bokeh !== undefined) || (force === true)) {\n      for (var i = 0; i < inline_js.length; i++) {\n        inline_js[i].call(root, root.Bokeh);\n      }if (force === true) {\n        display_loaded();\n      }} else if (Date.now() < root._bokeh_timeout) {\n      setTimeout(run_inline_js, 100);\n    } else if (!root._bokeh_failed_load) {\n      console.log(\"Bokeh: BokehJS failed to load within specified timeout.\");\n      root._bokeh_failed_load = true;\n    } else if (force !== true) {\n      var cell = $(document.getElementById(\"f404cfaf-6ca0-411f-9915-c7f33ad55ba1\")).parents('.cell').data().cell;\n      cell.output_area.append_execute_result(NB_LOAD_WARNING)\n    }\n\n  }\n\n  if (root._bokeh_is_loading === 0) {\n    console.log(\"Bokeh: BokehJS loaded, going straight to plotting\");\n    run_inline_js();\n  } else {\n    load_libs(js_urls, function() {\n      console.log(\"Bokeh: BokehJS plotting callback run at\", now());\n      run_inline_js();\n    });\n  }\n}(window));"
     },
     "metadata": {},
     "output_type": "display_data"
    },
    {
     "data": {
      "text/html": [
       "\n",
       "<div class=\"bk-root\">\n",
       "    <div class=\"bk-plotdiv\" id=\"9e18f04b-92fc-4bb1-97bf-d62fe6bf940b\"></div>\n",
       "</div>"
      ]
     },
     "metadata": {},
     "output_type": "display_data"
    },
    {
     "data": {
      "application/javascript": [
       "(function(root) {\n",
       "  function embed_document(root) {\n",
       "    \n",
       "  var docs_json = {\"44b68aa4-8d12-4fd6-b449-9b950e58125d\":{\"roots\":{\"references\":[{\"attributes\":{},\"id\":\"9bdfc1c8-a59f-4404-a207-a6a4583ed12a\",\"type\":\"CategoricalTicker\"},{\"attributes\":{\"grid_line_color\":{\"value\":null},\"plot\":{\"id\":\"81478337-0386-4b8c-b387-bdc45fb103bb\",\"subtype\":\"Figure\",\"type\":\"Plot\"},\"ticker\":{\"id\":\"9bdfc1c8-a59f-4404-a207-a6a4583ed12a\",\"type\":\"CategoricalTicker\"}},\"id\":\"5d2c6a83-ac3f-41a2-9e8f-3edfc8293a8c\",\"type\":\"Grid\"},{\"attributes\":{},\"id\":\"64d8f557-719f-4819-bb0c-db3b68f8d31e\",\"type\":\"BasicTickFormatter\"},{\"attributes\":{\"callback\":null,\"factors\":[\"Apples\",\"Pears\",\"Nectarines\",\"Plums\",\"Grapes\",\"Strawberries\"]},\"id\":\"4b9895fe-16f8-4262-847a-543023811d92\",\"type\":\"FactorRange\"},{\"attributes\":{},\"id\":\"82a2e44b-3388-47ec-a27c-8daa986340d3\",\"type\":\"BasicTicker\"},{\"attributes\":{\"callback\":null,\"column_names\":[\"fruits\",\"counts\",\"color\"],\"data\":{\"color\":[\"#3288bd\",\"#99d594\",\"#e6f598\",\"#fee08b\",\"#fc8d59\",\"#d53e4f\"],\"counts\":[5,3,4,2,4,6],\"fruits\":[\"Apples\",\"Pears\",\"Nectarines\",\"Plums\",\"Grapes\",\"Strawberries\"]}},\"id\":\"0c26cc69-f7ae-4aca-b961-be2ddeac38d1\",\"type\":\"ColumnDataSource\"},{\"attributes\":{\"dimension\":1,\"plot\":{\"id\":\"81478337-0386-4b8c-b387-bdc45fb103bb\",\"subtype\":\"Figure\",\"type\":\"Plot\"},\"ticker\":{\"id\":\"82a2e44b-3388-47ec-a27c-8daa986340d3\",\"type\":\"BasicTicker\"}},\"id\":\"9e875a39-7461-49ba-8f1a-66e02dfdc69b\",\"type\":\"Grid\"},{\"attributes\":{\"bottom_units\":\"screen\",\"fill_alpha\":{\"value\":0.5},\"fill_color\":{\"value\":\"lightgrey\"},\"left_units\":\"screen\",\"level\":\"overlay\",\"line_alpha\":{\"value\":1.0},\"line_color\":{\"value\":\"black\"},\"line_dash\":[4,4],\"line_width\":{\"value\":2},\"plot\":null,\"render_mode\":\"css\",\"right_units\":\"screen\",\"top_units\":\"screen\"},\"id\":\"542e6ae1-3e08-4b42-a70d-0c5c2172e796\",\"type\":\"BoxAnnotation\"},{\"attributes\":{\"fill_alpha\":{\"value\":0.1},\"fill_color\":{\"value\":\"#1f77b4\"},\"line_alpha\":{\"value\":0.1},\"line_color\":{\"value\":\"#1f77b4\"},\"top\":{\"field\":\"counts\"},\"width\":{\"value\":0.9},\"x\":{\"field\":\"fruits\"}},\"id\":\"d5e407bd-9cce-40a5-93bc-63b48698041c\",\"type\":\"VBar\"},{\"attributes\":{\"items\":[{\"id\":\"95df7c64-9d7a-4b9c-bdd4-489b6cb0dc47\",\"type\":\"LegendItem\"}],\"location\":\"top_center\",\"orientation\":\"horizontal\",\"plot\":{\"id\":\"81478337-0386-4b8c-b387-bdc45fb103bb\",\"subtype\":\"Figure\",\"type\":\"Plot\"}},\"id\":\"6ecea3a3-1c8c-4318-a2b5-596247025109\",\"type\":\"Legend\"},{\"attributes\":{\"data_source\":{\"id\":\"0c26cc69-f7ae-4aca-b961-be2ddeac38d1\",\"type\":\"ColumnDataSource\"},\"glyph\":{\"id\":\"9646bdff-69bc-4fb8-867b-64b503a64b2b\",\"type\":\"VBar\"},\"hover_glyph\":null,\"muted_glyph\":null,\"nonselection_glyph\":{\"id\":\"d5e407bd-9cce-40a5-93bc-63b48698041c\",\"type\":\"VBar\"},\"selection_glyph\":null,\"view\":{\"id\":\"e035ca8a-3cfd-4de7-9600-b694e878ff62\",\"type\":\"CDSView\"}},\"id\":\"215c3833-7926-4fda-87fd-b9634483b995\",\"type\":\"GlyphRenderer\"},{\"attributes\":{\"plot\":null,\"text\":\"Fruit Counts\"},\"id\":\"8bfea3f2-4995-4941-8583-ea7f4cc1537a\",\"type\":\"Title\"},{\"attributes\":{},\"id\":\"d20f85e2-2a3a-4685-93b4-bd93628892dd\",\"type\":\"PanTool\"},{\"attributes\":{\"label\":{\"field\":\"fruits\"},\"renderers\":[{\"id\":\"215c3833-7926-4fda-87fd-b9634483b995\",\"type\":\"GlyphRenderer\"}]},\"id\":\"95df7c64-9d7a-4b9c-bdd4-489b6cb0dc47\",\"type\":\"LegendItem\"},{\"attributes\":{\"source\":{\"id\":\"0c26cc69-f7ae-4aca-b961-be2ddeac38d1\",\"type\":\"ColumnDataSource\"}},\"id\":\"e035ca8a-3cfd-4de7-9600-b694e878ff62\",\"type\":\"CDSView\"},{\"attributes\":{},\"id\":\"c70bf677-d69f-43a2-9bfd-7d5831f35dc0\",\"type\":\"WheelZoomTool\"},{\"attributes\":{\"callback\":null,\"end\":9},\"id\":\"c849401d-98d0-4146-a09b-9260a791653f\",\"type\":\"Range1d\"},{\"attributes\":{\"overlay\":{\"id\":\"542e6ae1-3e08-4b42-a70d-0c5c2172e796\",\"type\":\"BoxAnnotation\"}},\"id\":\"6773ed7e-62b7-46da-a891-774b5d7f3887\",\"type\":\"BoxZoomTool\"},{\"attributes\":{\"active_drag\":\"auto\",\"active_inspect\":\"auto\",\"active_scroll\":\"auto\",\"active_tap\":\"auto\",\"tools\":[{\"id\":\"d20f85e2-2a3a-4685-93b4-bd93628892dd\",\"type\":\"PanTool\"},{\"id\":\"c70bf677-d69f-43a2-9bfd-7d5831f35dc0\",\"type\":\"WheelZoomTool\"},{\"id\":\"6773ed7e-62b7-46da-a891-774b5d7f3887\",\"type\":\"BoxZoomTool\"},{\"id\":\"9689f302-d740-4be4-afd9-339b1d3d1f58\",\"type\":\"SaveTool\"},{\"id\":\"033e1299-c845-4c68-837d-acb99979df84\",\"type\":\"ResetTool\"},{\"id\":\"e621da24-3165-4787-a338-5bdc8b73f6ad\",\"type\":\"HelpTool\"}]},\"id\":\"b1133d30-8843-4603-800a-2d7bffb940ac\",\"type\":\"Toolbar\"},{\"attributes\":{},\"id\":\"9689f302-d740-4be4-afd9-339b1d3d1f58\",\"type\":\"SaveTool\"},{\"attributes\":{},\"id\":\"033e1299-c845-4c68-837d-acb99979df84\",\"type\":\"ResetTool\"},{\"attributes\":{},\"id\":\"1b6c30a7-425c-49b5-a42a-0342eea7c8ff\",\"type\":\"CategoricalScale\"},{\"attributes\":{\"fill_color\":{\"field\":\"color\"},\"line_color\":{\"field\":\"color\"},\"top\":{\"field\":\"counts\"},\"width\":{\"value\":0.9},\"x\":{\"field\":\"fruits\"}},\"id\":\"9646bdff-69bc-4fb8-867b-64b503a64b2b\",\"type\":\"VBar\"},{\"attributes\":{},\"id\":\"e621da24-3165-4787-a338-5bdc8b73f6ad\",\"type\":\"HelpTool\"},{\"attributes\":{},\"id\":\"54341f46-552c-4108-b6d5-ec06685bae8d\",\"type\":\"LinearScale\"},{\"attributes\":{\"formatter\":{\"id\":\"64d8f557-719f-4819-bb0c-db3b68f8d31e\",\"type\":\"BasicTickFormatter\"},\"plot\":{\"id\":\"81478337-0386-4b8c-b387-bdc45fb103bb\",\"subtype\":\"Figure\",\"type\":\"Plot\"},\"ticker\":{\"id\":\"82a2e44b-3388-47ec-a27c-8daa986340d3\",\"type\":\"BasicTicker\"}},\"id\":\"5f51904b-cef2-491a-bb18-52a460b1b298\",\"type\":\"LinearAxis\"},{\"attributes\":{\"below\":[{\"id\":\"b36bac61-3362-4a89-b28b-f5431993c1d9\",\"type\":\"CategoricalAxis\"}],\"left\":[{\"id\":\"5f51904b-cef2-491a-bb18-52a460b1b298\",\"type\":\"LinearAxis\"}],\"plot_height\":250,\"renderers\":[{\"id\":\"b36bac61-3362-4a89-b28b-f5431993c1d9\",\"type\":\"CategoricalAxis\"},{\"id\":\"5d2c6a83-ac3f-41a2-9e8f-3edfc8293a8c\",\"type\":\"Grid\"},{\"id\":\"5f51904b-cef2-491a-bb18-52a460b1b298\",\"type\":\"LinearAxis\"},{\"id\":\"9e875a39-7461-49ba-8f1a-66e02dfdc69b\",\"type\":\"Grid\"},{\"id\":\"542e6ae1-3e08-4b42-a70d-0c5c2172e796\",\"type\":\"BoxAnnotation\"},{\"id\":\"6ecea3a3-1c8c-4318-a2b5-596247025109\",\"type\":\"Legend\"},{\"id\":\"215c3833-7926-4fda-87fd-b9634483b995\",\"type\":\"GlyphRenderer\"}],\"title\":{\"id\":\"8bfea3f2-4995-4941-8583-ea7f4cc1537a\",\"type\":\"Title\"},\"toolbar\":{\"id\":\"b1133d30-8843-4603-800a-2d7bffb940ac\",\"type\":\"Toolbar\"},\"x_range\":{\"id\":\"4b9895fe-16f8-4262-847a-543023811d92\",\"type\":\"FactorRange\"},\"x_scale\":{\"id\":\"1b6c30a7-425c-49b5-a42a-0342eea7c8ff\",\"type\":\"CategoricalScale\"},\"y_range\":{\"id\":\"c849401d-98d0-4146-a09b-9260a791653f\",\"type\":\"Range1d\"},\"y_scale\":{\"id\":\"54341f46-552c-4108-b6d5-ec06685bae8d\",\"type\":\"LinearScale\"}},\"id\":\"81478337-0386-4b8c-b387-bdc45fb103bb\",\"subtype\":\"Figure\",\"type\":\"Plot\"},{\"attributes\":{},\"id\":\"95941d01-0d33-4412-ab29-49eda7a188f8\",\"type\":\"CategoricalTickFormatter\"},{\"attributes\":{\"formatter\":{\"id\":\"95941d01-0d33-4412-ab29-49eda7a188f8\",\"type\":\"CategoricalTickFormatter\"},\"plot\":{\"id\":\"81478337-0386-4b8c-b387-bdc45fb103bb\",\"subtype\":\"Figure\",\"type\":\"Plot\"},\"ticker\":{\"id\":\"9bdfc1c8-a59f-4404-a207-a6a4583ed12a\",\"type\":\"CategoricalTicker\"}},\"id\":\"b36bac61-3362-4a89-b28b-f5431993c1d9\",\"type\":\"CategoricalAxis\"}],\"root_ids\":[\"81478337-0386-4b8c-b387-bdc45fb103bb\"]},\"title\":\"Bokeh Application\",\"version\":\"0.12.13\"}};\n",
       "  var render_items = [{\"docid\":\"44b68aa4-8d12-4fd6-b449-9b950e58125d\",\"elementid\":\"9e18f04b-92fc-4bb1-97bf-d62fe6bf940b\",\"modelid\":\"81478337-0386-4b8c-b387-bdc45fb103bb\"}];\n",
       "  root.Bokeh.embed.embed_items_notebook(docs_json, render_items);\n",
       "\n",
       "  }\n",
       "  if (root.Bokeh !== undefined) {\n",
       "    embed_document(root);\n",
       "  } else {\n",
       "    var attempts = 0;\n",
       "    var timer = setInterval(function(root) {\n",
       "      if (root.Bokeh !== undefined) {\n",
       "        embed_document(root);\n",
       "        clearInterval(timer);\n",
       "      }\n",
       "      attempts++;\n",
       "      if (attempts > 100) {\n",
       "        console.log(\"Bokeh: ERROR: Unable to run BokehJS code because BokehJS library is missing\")\n",
       "        clearInterval(timer);\n",
       "      }\n",
       "    }, 10, root)\n",
       "  }\n",
       "})(window);"
      ],
      "application/vnd.bokehjs_exec.v0+json": ""
     },
     "metadata": {
      "application/vnd.bokehjs_exec.v0+json": {
       "id": "81478337-0386-4b8c-b387-bdc45fb103bb"
      }
     },
     "output_type": "display_data"
    }
   ],
   "source": [
    "from ipywidgets import interact\n",
    "from bokeh.io import push_notebook, show, output_notebook\n",
    "from bokeh.plotting import figure\n",
    "from bokeh.models import ColumnDataSource\n",
    "from bokeh.palettes import Spectral6\n",
    "output_notebook()\n",
    "\n",
    "fruits = ['Apples', 'Pears', 'Nectarines', 'Plums', 'Grapes', 'Strawberries']\n",
    "counts = [5, 3, 4, 2, 4, 6]\n",
    "\n",
    "source = ColumnDataSource(data=dict(fruits=fruits, counts=counts, color=Spectral6))\n",
    "\n",
    "p = figure(x_range=fruits, plot_height=250, y_range=(0, 9), title=\"Fruit Counts\")\n",
    "p.vbar(x='fruits', top='counts', width=0.9, color='color', legend=\"fruits\", source=source)\n",
    "\n",
    "p.xgrid.grid_line_color = None\n",
    "p.legend.orientation = \"horizontal\"\n",
    "p.legend.location = \"top_center\"\n",
    "\n",
    "show(p)"
   ]
  },
  {
   "cell_type": "markdown",
   "metadata": {},
   "source": [
    "# Scattertext for Descriptive Text Analytics and Visualization\n",
    "> Now that we have reviewed basic visualization of word frequency, let's look at some more advanced tools. Scattertext is a comprehensive package that provides tools for visualizing terms and associations, topics and categories, term scores, text classification weights, semiotic squares, word similarity, and even emojis! \n",
    "\n",
    "> We are going to start with visualizing terms and associations, then we will explore some of the more advanced topics. \n",
    "\n",
    "> https://github.com/JasonKessler/Scattertext-PyData\n",
    " "
   ]
  },
  {
   "cell_type": "markdown",
   "metadata": {},
   "source": [
    "#### First ensure that you installed and imported all of the packages listed in the first section"
   ]
  },
  {
   "cell_type": "code",
   "execution_count": 17,
   "metadata": {
    "collapsed": true
   },
   "outputs": [],
   "source": [
    "import scattertext as st\n",
    "import spacy\n",
    "from pprint import pprint\n",
    "import en_core_web_sm"
   ]
  },
  {
   "cell_type": "markdown",
   "metadata": {},
   "source": [
    "#### Reload and Process the debate dataset\n",
    "* Scattertext and spaCY make the preprocessing very easy\n",
    "* All we need to do is create a dataframe with two columns (category and text data)\n",
    " 1. Speaker (Trump and Clinton) these are our categories\n",
    " 2. Text (the text data for analysis)"
   ]
  },
  {
   "cell_type": "code",
   "execution_count": 18,
   "metadata": {
    "collapsed": true
   },
   "outputs": [],
   "source": [
    "df = pd.read_csv(\"data/debate.csv\", encoding = 'iso-8859-1')\n",
    "del df['Line']\n",
    "del df['Date']\n",
    "df_clinton = df[df.Speaker==\"Clinton\"].copy()\n",
    "df_trump = df[df.Speaker==\"Trump\"].copy()\n",
    "df3 = df_clinton.append(df_trump)"
   ]
  },
  {
   "cell_type": "markdown",
   "metadata": {},
   "source": [
    "### Turn the data frame into a Scattertext Corpus\n",
    "* We want to look for differences between Trump and Clinton so we set (category_col='Speaker')\n",
    "* We want to analyize the text for each canidate so we set (text_col = 'Text')\n",
    "* We are not going to remove stopwords for this visualization because they might actually help provide insight in this use case (if you want to use stop word the code is included below)\n",
    ">Jason Kessler the creator of Scattertext said \"function words can reveal interesting psychological traits\"\n",
    "\n",
    "* ##### To remove stopwords: \n",
    " * from sklearn.feature_extraction.stop_words import ENGLISH_STOP_WORDS\n",
    " * put this after .build()\n",
    "   * .remove_terms(ENGLISH_STOP_WORDS, ignore_absences=True)\n",
    "\n",
    "* ##### spaCY error troubleshooting\n",
    " * If you get an error for spaCY, it may not be able to load the local english langauge. Replace 'nlp = spacy.load('en')' with:\n",
    "  * nlp = en_core_web_sm.load()"
   ]
  },
  {
   "cell_type": "code",
   "execution_count": 19,
   "metadata": {
    "collapsed": true
   },
   "outputs": [],
   "source": [
    "nlp = spacy.load('en') \n",
    "corpus = st.CorpusFromPandas(df3, category_col='Speaker', text_col='Text', nlp=nlp).build()"
   ]
  },
  {
   "cell_type": "markdown",
   "metadata": {},
   "source": [
    "##### Let's see characteristic terms in the corpus, and terms that are most associated with both Trump and Hillary"
   ]
  },
  {
   "cell_type": "code",
   "execution_count": 20,
   "metadata": {},
   "outputs": [
    {
     "name": "stdout",
     "output_type": "stream",
     "text": [
      "['obamacare', 'wikileaks', 'raqqa', 'obama', 'outsmarted', 'mosul', 'baghdadi', 'irredeemable', 'tweeting', 'underleveraged']\n"
     ]
    }
   ],
   "source": [
    "print(list(corpus.get_scaled_f_scores_vs_background().index[:10]))"
   ]
  },
  {
   "cell_type": "markdown",
   "metadata": {},
   "source": [
    "##### Let's see characteristic terms in the corpus, and terms that are most associated with Trump"
   ]
  },
  {
   "cell_type": "code",
   "execution_count": 21,
   "metadata": {},
   "outputs": [
    {
     "name": "stdout",
     "output_type": "stream",
     "text": [
      "['hillary',\n",
      " \"she 's\",\n",
      " 'she',\n",
      " 'bad',\n",
      " 'tell you',\n",
      " 'tell',\n",
      " \"they 're\",\n",
      " 'clinton',\n",
      " 'her',\n",
      " 'and she']\n"
     ]
    }
   ],
   "source": [
    "term_freq_df = corpus.get_term_freq_df()\n",
    "term_freq_df['Trump Score'] = corpus.get_scaled_f_scores('Trump')\n",
    "pprint(list(term_freq_df.sort_values(by='Trump Score', ascending=False).index[:10]))"
   ]
  },
  {
   "cell_type": "markdown",
   "metadata": {},
   "source": [
    "##### Let's see characteristic terms in the corpus, and terms that are most associated with Clinton"
   ]
  },
  {
   "cell_type": "code",
   "execution_count": 22,
   "metadata": {},
   "outputs": [
    {
     "name": "stdout",
     "output_type": "stream",
     "text": [
      "['donald',\n",
      " 'need to',\n",
      " 'his',\n",
      " 'that he',\n",
      " \"'ve got\",\n",
      " 'he',\n",
      " 'i want',\n",
      " 'that is',\n",
      " 'work',\n",
      " 'he has']\n"
     ]
    }
   ],
   "source": [
    "term_freq_df = corpus.get_term_freq_df()\n",
    "term_freq_df['Clinton Score'] = corpus.get_scaled_f_scores('Clinton')\n",
    "pprint(list(term_freq_df.sort_values(by='Clinton Score', ascending=False).index[:10]))"
   ]
  },
  {
   "cell_type": "markdown",
   "metadata": {},
   "source": [
    "## Visualization of terms with Scattertext\n",
    "* Using the corpus we created the produce_scattertext_explorer function will create an interactive visualization of terms\n",
    "* Hillary Clinton will be plotted on the Y axis\n",
    "* Donald Trump will be plotted on the X axis\n",
    "* You can click on a term and see the sentences that Hillary Clinton or Donald Trump used them in. \n",
    "* We will also use Iframe so we can embed the HTML output in the notebook"
   ]
  },
  {
   "cell_type": "code",
   "execution_count": 23,
   "metadata": {},
   "outputs": [
    {
     "data": {
      "text/plain": [
       "736831"
      ]
     },
     "execution_count": 23,
     "metadata": {},
     "output_type": "execute_result"
    }
   ],
   "source": [
    "# category = 'Clinton' (this creates a category for Hillary Clinton)\n",
    "# not_category_name = 'Donald Trump' every thing that is not in the clinton category is in the Trump category\n",
    "html = st.produce_scattertext_explorer(corpus, category='Clinton', category_name='Hillary Clinton', \n",
    "                                       not_category_name='Donald Trump', width_in_pixels=1000, metadata=df3['Speaker'])\n",
    "open(\"TrumpClinton_Visualization.html\", 'wb').write(html.encode('utf-8'))"
   ]
  },
  {
   "cell_type": "code",
   "execution_count": 24,
   "metadata": {},
   "outputs": [
    {
     "data": {
      "text/html": [
       "\n",
       "        <iframe\n",
       "            width=\"1300\"\n",
       "            height=\"800\"\n",
       "            src=\"TrumpClinton_Visualization.html\"\n",
       "            frameborder=\"0\"\n",
       "            allowfullscreen\n",
       "        ></iframe>\n",
       "        "
      ],
      "text/plain": [
       "<IPython.lib.display.IFrame at 0x1d83a9949e8>"
      ]
     },
     "execution_count": 24,
     "metadata": {},
     "output_type": "execute_result"
    }
   ],
   "source": [
    "from IPython.display import IFrame\n",
    "from IPython.core.display import display, HTML\n",
    "file_name = 'TrumpClinton_Visualization.html'\n",
    "open(file_name, 'wb').write(html.encode('utf-8'))\n",
    "IFrame(src=file_name, width = 1300, height=800)"
   ]
  },
  {
   "cell_type": "markdown",
   "metadata": {},
   "source": [
    "# Topic Modeling Visualization Using Scattertext\n",
    ">Instead of looking for common terms we will be looking for topics that Hillary Clinton and Donald Trump had in thier debates"
   ]
  },
  {
   "cell_type": "code",
   "execution_count": 25,
   "metadata": {},
   "outputs": [
    {
     "data": {
      "text/html": [
       "<div>\n",
       "<style scoped>\n",
       "    .dataframe tbody tr th:only-of-type {\n",
       "        vertical-align: middle;\n",
       "    }\n",
       "\n",
       "    .dataframe tbody tr th {\n",
       "        vertical-align: top;\n",
       "    }\n",
       "\n",
       "    .dataframe thead th {\n",
       "        text-align: right;\n",
       "    }\n",
       "</style>\n",
       "<table border=\"1\" class=\"dataframe\">\n",
       "  <thead>\n",
       "    <tr style=\"text-align: right;\">\n",
       "      <th></th>\n",
       "      <th>Speaker</th>\n",
       "      <th>Text</th>\n",
       "    </tr>\n",
       "  </thead>\n",
       "  <tbody>\n",
       "    <tr>\n",
       "      <th>2</th>\n",
       "      <td>Clinton</td>\n",
       "      <td>How are you, Donald?</td>\n",
       "    </tr>\n",
       "  </tbody>\n",
       "</table>\n",
       "</div>"
      ],
      "text/plain": [
       "   Speaker                  Text\n",
       "2  Clinton  How are you, Donald?"
      ]
     },
     "execution_count": 25,
     "metadata": {},
     "output_type": "execute_result"
    }
   ],
   "source": [
    "df3.head(1)"
   ]
  },
  {
   "cell_type": "markdown",
   "metadata": {},
   "source": [
    "##### Create a corpus of topics/categories rather than terms. We will do this using **FeatsOnlyFromEmpath**"
   ]
  },
  {
   "cell_type": "code",
   "execution_count": 26,
   "metadata": {
    "collapsed": true
   },
   "outputs": [],
   "source": [
    "empath_corpus = st.CorpusFromParsedDocuments(df3, category_col='Speaker', \n",
    "                                             feats_from_spacy_doc=st.FeatsFromOnlyEmpath(), \n",
    "                                             parsed_col='Text').build()"
   ]
  },
  {
   "cell_type": "code",
   "execution_count": 27,
   "metadata": {},
   "outputs": [
    {
     "data": {
      "text/plain": [
       "661421"
      ]
     },
     "execution_count": 27,
     "metadata": {},
     "output_type": "execute_result"
    }
   ],
   "source": [
    "html = st.produce_scattertext_explorer(empath_corpus, category= 'Clinton', category_name='Hillary Clinton', \n",
    "                                       not_category_name='Donald Trump', width_in_pixels=1000, \n",
    "                                       metadata=df3['Speaker'], use_non_text_features=True, use_full_doc=True)\n",
    "open(\"TrumpClintonDebate-Empath.html\", 'wb').write(html.encode('utf-8'))"
   ]
  },
  {
   "cell_type": "code",
   "execution_count": 28,
   "metadata": {},
   "outputs": [
    {
     "data": {
      "text/html": [
       "\n",
       "        <iframe\n",
       "            width=\"1500\"\n",
       "            height=\"700\"\n",
       "            src=\"TrumpClintonDebate-Empath.html\"\n",
       "            frameborder=\"0\"\n",
       "            allowfullscreen\n",
       "        ></iframe>\n",
       "        "
      ],
      "text/plain": [
       "<IPython.lib.display.IFrame at 0x1d82ba99390>"
      ]
     },
     "execution_count": 28,
     "metadata": {},
     "output_type": "execute_result"
    }
   ],
   "source": [
    "from IPython.display import IFrame\n",
    "from IPython.core.display import display, HTML\n",
    "file_name = 'TrumpClintonDebate-Empath.html'\n",
    "file = open(file_name, 'wb').write(html.encode('utf-8'))\n",
    "IFrame(src=file_name, width = 1500, height=700)"
   ]
  },
  {
   "cell_type": "markdown",
   "metadata": {},
   "source": [
    "# Visualizing scikit-learn text classification weights"
   ]
  },
  {
   "cell_type": "markdown",
   "metadata": {},
   "source": [
    "* pip install lightning-python\n",
    "* conda install -c conda-forge sklearn-contrib-lightning"
   ]
  },
  {
   "cell_type": "markdown",
   "metadata": {},
   "source": [
    "### First we need to build a text classification model. We will use techniques learned in class. Note we are going to use all of the speakers in this model not just Trump and Hillary. "
   ]
  },
  {
   "cell_type": "code",
   "execution_count": 29,
   "metadata": {
    "collapsed": true
   },
   "outputs": [],
   "source": [
    "#read and format data\n",
    "df5 = pd.read_csv(\"data/debate.csv\", encoding = 'iso-8859-1')\n",
    "del df5['Line']\n",
    "del df5['Date']\n",
    "df7 = df5[df5.Speaker==\"Clinton\"].copy()\n",
    "df8 = df5[df5.Speaker==\"Trump\"].copy()\n",
    "df5= df7.append(df8)"
   ]
  },
  {
   "cell_type": "markdown",
   "metadata": {},
   "source": [
    "Labels are set so Trump = 1 and Clinton = 0"
   ]
  },
  {
   "cell_type": "code",
   "execution_count": 30,
   "metadata": {
    "collapsed": true
   },
   "outputs": [],
   "source": [
    "df5['Speaker'] = df5['Speaker'].str.replace('Trump', '0')\n",
    "df5['Speaker'] = df5['Speaker'].str.replace('Clinton', '1')"
   ]
  },
  {
   "cell_type": "code",
   "execution_count": 31,
   "metadata": {
    "collapsed": true
   },
   "outputs": [],
   "source": [
    "#target_names is a list of the two categories which is a class-label list.\n",
    "target_names = ['Trump', 'Clinton']"
   ]
  },
  {
   "cell_type": "code",
   "execution_count": 32,
   "metadata": {
    "collapsed": true
   },
   "outputs": [],
   "source": [
    "df5 = df5.rename(columns={'Speaker': 'Label', 'Text': 'Data'})"
   ]
  },
  {
   "cell_type": "code",
   "execution_count": 33,
   "metadata": {
    "collapsed": true
   },
   "outputs": [],
   "source": [
    "#create seperate dataframes for data and labels. \n",
    "sms = df5.copy()\n",
    "sms_data = df5['Data'].copy()\n",
    "sms_labels = df5['Label'].copy()\n",
    "\n",
    "#use .values.tolist() to transform dataframe into list\n",
    "sms = sms.values.tolist()\n",
    "sms_data = sms_data.values.tolist()\n",
    "sms_labels = sms_labels.values.tolist()"
   ]
  },
  {
   "cell_type": "code",
   "execution_count": 34,
   "metadata": {},
   "outputs": [
    {
     "data": {
      "text/plain": [
       "(478, 478, 120, 120)"
      ]
     },
     "execution_count": 34,
     "metadata": {},
     "output_type": "execute_result"
    }
   ],
   "source": [
    "#Create training and testing sets\n",
    "x_train, x_test, y_train, y_test = train_test_split(sms_data, sms_labels, test_size=0.2, random_state=0)\n",
    "len(x_train), len(y_train), len(x_test), len(y_test)"
   ]
  },
  {
   "cell_type": "code",
   "execution_count": 35,
   "metadata": {
    "collapsed": true
   },
   "outputs": [],
   "source": [
    "#y_train must be an array for this\n",
    "import numpy as np\n",
    "y_train1 = np.asarray(y_train)"
   ]
  },
  {
   "cell_type": "code",
   "execution_count": 36,
   "metadata": {
    "collapsed": true
   },
   "outputs": [],
   "source": [
    "#create vectors\n",
    "vectorizer = TfidfVectorizer(decode_error ='ignore', stop_words='english')\n",
    "tfidf_X = vectorizer.fit_transform(x_train)\n",
    "count_vectorizer = CountVectorizer(vocabulary=vectorizer.vocabulary_, decode_error ='ignore')"
   ]
  },
  {
   "cell_type": "code",
   "execution_count": 37,
   "metadata": {
    "collapsed": true
   },
   "outputs": [],
   "source": [
    "corpus = st.CorpusFromScikit(X=count_vectorizer.fit_transform(x_train), \n",
    "                             y=y_train1, \n",
    "                             feature_vocabulary=vectorizer.vocabulary_,\n",
    "                             category_names=target_names,\n",
    "                             raw_texts=x_train).build()"
   ]
  },
  {
   "cell_type": "code",
   "execution_count": 38,
   "metadata": {
    "collapsed": true
   },
   "outputs": [],
   "source": [
    "clf = CDClassifier(penalty=\"l1/l2\",\n",
    "                   loss=\"squared_hinge\",\n",
    "                   multiclass=True,\n",
    "                   max_iter=20,\n",
    "                   alpha=1e-4,\n",
    "                   C=1.0 / tfidf_X.shape[0],\n",
    "                   tol=1e-3)\n",
    "clf.fit(tfidf_X, y_train1)\n",
    "term_scores = clf.coef_[0]"
   ]
  },
  {
   "cell_type": "code",
   "execution_count": 45,
   "metadata": {},
   "outputs": [
    {
     "name": "stderr",
     "output_type": "stream",
     "text": [
      "C:\\Users\\nmins\\Anaconda2\\envs\\py36\\lib\\site-packages\\scattertext\\TermDocMatrix.py:170: FutureWarning: elementwise comparison failed; returning scalar instead, but in the future will perform elementwise comparison\n",
      "  freq_mat[:, cat_i] = self._X[self._y == cat_i, :].sum(axis=0)\n"
     ]
    },
    {
     "data": {
      "text/plain": [
       "1012818"
      ]
     },
     "execution_count": 45,
     "metadata": {},
     "output_type": "execute_result"
    }
   ],
   "source": [
    "html = st.produce_frequency_explorer(corpus, 'Clinton', scores=term_scores,\n",
    "                                     use_term_significance=True,\n",
    "                                     terms_to_include=st.AutoTermSelector.get_selected_terms(corpus, term_scores, 4000),\n",
    "                                     metadata = y_train1)\n",
    "open(\"class.html\", 'wb').write(html.encode('utf-8'))"
   ]
  },
  {
   "cell_type": "code",
   "execution_count": 46,
   "metadata": {},
   "outputs": [
    {
     "data": {
      "text/html": [
       "\n",
       "        <iframe\n",
       "            width=\"1500\"\n",
       "            height=\"700\"\n",
       "            src=\"class.html\"\n",
       "            frameborder=\"0\"\n",
       "            allowfullscreen\n",
       "        ></iframe>\n",
       "        "
      ],
      "text/plain": [
       "<IPython.lib.display.IFrame at 0x1d8382f6c18>"
      ]
     },
     "execution_count": 46,
     "metadata": {},
     "output_type": "execute_result"
    }
   ],
   "source": [
    "from IPython.display import IFrame\n",
    "from IPython.core.display import display, HTML\n",
    "file_name = 'class.html'\n",
    "file = open(file_name, 'wb').write(html.encode('utf-8'))\n",
    "IFrame(src=file_name, width = 1500, height=700)"
   ]
  },
  {
   "cell_type": "markdown",
   "metadata": {},
   "source": [
    "## Scatter Text Concepts With truthful and deceptive hotel reviews\n",
    "* You can find the data here: https://www.kaggle.com/rtatman/deceptive-opinion-spam-corpus/data\n",
    "* This corpus consists of truthful and deceptive hotel reviews of 20 Chicago hotels. The data is described in two papers according to the sentiment of the review. In particular, we discuss positive sentiment reviews in [1] and negative sentiment reviews in [2]. "
   ]
  },
  {
   "cell_type": "code",
   "execution_count": 47,
   "metadata": {
    "collapsed": true
   },
   "outputs": [],
   "source": [
    "df = pd.read_csv(\"data/deceptive-opinion.csv\", encoding = 'iso-8859-1')"
   ]
  },
  {
   "cell_type": "code",
   "execution_count": 48,
   "metadata": {
    "collapsed": true
   },
   "outputs": [],
   "source": [
    "del df['hotel']\n",
    "del df['source']"
   ]
  },
  {
   "cell_type": "code",
   "execution_count": 49,
   "metadata": {},
   "outputs": [
    {
     "data": {
      "text/html": [
       "<div>\n",
       "<style scoped>\n",
       "    .dataframe tbody tr th:only-of-type {\n",
       "        vertical-align: middle;\n",
       "    }\n",
       "\n",
       "    .dataframe tbody tr th {\n",
       "        vertical-align: top;\n",
       "    }\n",
       "\n",
       "    .dataframe thead th {\n",
       "        text-align: right;\n",
       "    }\n",
       "</style>\n",
       "<table border=\"1\" class=\"dataframe\">\n",
       "  <thead>\n",
       "    <tr style=\"text-align: right;\">\n",
       "      <th></th>\n",
       "      <th></th>\n",
       "      <th>text</th>\n",
       "    </tr>\n",
       "    <tr>\n",
       "      <th>deceptive</th>\n",
       "      <th>polarity</th>\n",
       "      <th></th>\n",
       "    </tr>\n",
       "  </thead>\n",
       "  <tbody>\n",
       "    <tr>\n",
       "      <th rowspan=\"2\" valign=\"top\">deceptive</th>\n",
       "      <th>negative</th>\n",
       "      <td>400</td>\n",
       "    </tr>\n",
       "    <tr>\n",
       "      <th>positive</th>\n",
       "      <td>400</td>\n",
       "    </tr>\n",
       "    <tr>\n",
       "      <th rowspan=\"2\" valign=\"top\">truthful</th>\n",
       "      <th>negative</th>\n",
       "      <td>400</td>\n",
       "    </tr>\n",
       "    <tr>\n",
       "      <th>positive</th>\n",
       "      <td>400</td>\n",
       "    </tr>\n",
       "  </tbody>\n",
       "</table>\n",
       "</div>"
      ],
      "text/plain": [
       "                    text\n",
       "deceptive polarity      \n",
       "deceptive negative   400\n",
       "          positive   400\n",
       "truthful  negative   400\n",
       "          positive   400"
      ]
     },
     "execution_count": 49,
     "metadata": {},
     "output_type": "execute_result"
    }
   ],
   "source": [
    "df.groupby(['deceptive','polarity']).count()"
   ]
  },
  {
   "cell_type": "markdown",
   "metadata": {},
   "source": [
    "#### Visualizing topics of truthful reviews and deceptive reviews"
   ]
  },
  {
   "cell_type": "code",
   "execution_count": 50,
   "metadata": {
    "collapsed": true
   },
   "outputs": [],
   "source": [
    "nlp = en_core_web_sm.load()\n",
    "empath_corpus = st.CorpusFromParsedDocuments(df, category_col='deceptive', feats_from_spacy_doc=st.FeatsFromOnlyEmpath(), parsed_col='text').build()"
   ]
  },
  {
   "cell_type": "code",
   "execution_count": 51,
   "metadata": {},
   "outputs": [
    {
     "data": {
      "text/plain": [
       "2510993"
      ]
     },
     "execution_count": 51,
     "metadata": {},
     "output_type": "execute_result"
    }
   ],
   "source": [
    "html = st.produce_scattertext_explorer(empath_corpus, category= 'deceptive', category_name='Deceptive Reviews', \n",
    "                                       not_category_name='Truthful Reviews', width_in_pixels=1000, \n",
    "                                       metadata=df['polarity'], use_non_text_features=True, use_full_doc=True)\n",
    "open(\"deceptive_truthful.html\", 'wb').write(html.encode('utf-8'))"
   ]
  },
  {
   "cell_type": "code",
   "execution_count": 52,
   "metadata": {},
   "outputs": [
    {
     "data": {
      "text/html": [
       "\n",
       "        <iframe\n",
       "            width=\"1300\"\n",
       "            height=\"800\"\n",
       "            src=\"deceptive_truthful.html\"\n",
       "            frameborder=\"0\"\n",
       "            allowfullscreen\n",
       "        ></iframe>\n",
       "        "
      ],
      "text/plain": [
       "<IPython.lib.display.IFrame at 0x1d82b9f6a58>"
      ]
     },
     "execution_count": 52,
     "metadata": {},
     "output_type": "execute_result"
    }
   ],
   "source": [
    "from IPython.display import IFrame\n",
    "from IPython.core.display import display, HTML\n",
    "file_name = 'deceptive_truthful.html'\n",
    "open(file_name, 'wb').write(html.encode('utf-8'))\n",
    "IFrame(src=file_name, width = 1300, height=800)"
   ]
  },
  {
   "cell_type": "markdown",
   "metadata": {},
   "source": [
    "#### Visualizing term associations of postive reviews and negative reviews"
   ]
  },
  {
   "cell_type": "code",
   "execution_count": 53,
   "metadata": {
    "collapsed": true
   },
   "outputs": [],
   "source": [
    "nlp = en_core_web_sm.load()\n",
    "empath_corpus = st.CorpusFromParsedDocuments(df, category_col='polarity', feats_from_spacy_doc=st.FeatsFromOnlyEmpath(), parsed_col='text').build()"
   ]
  },
  {
   "cell_type": "code",
   "execution_count": 54,
   "metadata": {},
   "outputs": [
    {
     "data": {
      "text/plain": [
       "2511766"
      ]
     },
     "execution_count": 54,
     "metadata": {},
     "output_type": "execute_result"
    }
   ],
   "source": [
    "html = st.produce_scattertext_explorer(empath_corpus, category= 'positive', category_name='Positive Reviews', \n",
    "                                       not_category_name='Negative Reviews', width_in_pixels=1000, \n",
    "                                       metadata=df['deceptive'], use_non_text_features=True, use_full_doc=True)\n",
    "open(\"pos_neg.html\", 'wb').write(html.encode('utf-8'))"
   ]
  },
  {
   "cell_type": "code",
   "execution_count": 55,
   "metadata": {},
   "outputs": [
    {
     "data": {
      "text/html": [
       "\n",
       "        <iframe\n",
       "            width=\"1300\"\n",
       "            height=\"800\"\n",
       "            src=\"pos_neg.html\"\n",
       "            frameborder=\"0\"\n",
       "            allowfullscreen\n",
       "        ></iframe>\n",
       "        "
      ],
      "text/plain": [
       "<IPython.lib.display.IFrame at 0x1d82a185b70>"
      ]
     },
     "execution_count": 55,
     "metadata": {},
     "output_type": "execute_result"
    }
   ],
   "source": [
    "from IPython.display import IFrame\n",
    "from IPython.core.display import display, HTML\n",
    "file_name = 'pos_neg.html'\n",
    "open(file_name, 'wb').write(html.encode('utf-8'))\n",
    "IFrame(src=file_name, width = 1300, height=800)"
   ]
  },
  {
   "cell_type": "code",
   "execution_count": 56,
   "metadata": {},
   "outputs": [
    {
     "data": {
      "text/html": [
       "<div>\n",
       "<style scoped>\n",
       "    .dataframe tbody tr th:only-of-type {\n",
       "        vertical-align: middle;\n",
       "    }\n",
       "\n",
       "    .dataframe tbody tr th {\n",
       "        vertical-align: top;\n",
       "    }\n",
       "\n",
       "    .dataframe thead th {\n",
       "        text-align: right;\n",
       "    }\n",
       "</style>\n",
       "<table border=\"1\" class=\"dataframe\">\n",
       "  <thead>\n",
       "    <tr style=\"text-align: right;\">\n",
       "      <th></th>\n",
       "      <th></th>\n",
       "      <th>text</th>\n",
       "    </tr>\n",
       "    <tr>\n",
       "      <th>deceptive</th>\n",
       "      <th>polarity</th>\n",
       "      <th></th>\n",
       "    </tr>\n",
       "  </thead>\n",
       "  <tbody>\n",
       "    <tr>\n",
       "      <th rowspan=\"2\" valign=\"top\">deceptive</th>\n",
       "      <th>negative</th>\n",
       "      <td>400</td>\n",
       "    </tr>\n",
       "    <tr>\n",
       "      <th>positive</th>\n",
       "      <td>400</td>\n",
       "    </tr>\n",
       "    <tr>\n",
       "      <th rowspan=\"2\" valign=\"top\">truthful</th>\n",
       "      <th>negative</th>\n",
       "      <td>400</td>\n",
       "    </tr>\n",
       "    <tr>\n",
       "      <th>positive</th>\n",
       "      <td>400</td>\n",
       "    </tr>\n",
       "  </tbody>\n",
       "</table>\n",
       "</div>"
      ],
      "text/plain": [
       "                    text\n",
       "deceptive polarity      \n",
       "deceptive negative   400\n",
       "          positive   400\n",
       "truthful  negative   400\n",
       "          positive   400"
      ]
     },
     "execution_count": 56,
     "metadata": {},
     "output_type": "execute_result"
    }
   ],
   "source": [
    "df.groupby(['deceptive','polarity']).count()"
   ]
  },
  {
   "cell_type": "markdown",
   "metadata": {},
   "source": [
    "## Lexicalized Semiotic Squares"
   ]
  },
  {
   "cell_type": "markdown",
   "metadata": {},
   "source": [
    "* This technique will visualize the data in four quadrants\n",
    "* The Y Axis will show deceptive vs truthful\n",
    "* The X axis will show positive vs negative\n",
    "---"
   ]
  },
  {
   "cell_type": "markdown",
   "metadata": {},
   "source": [
    "##### First we need to create a category column that combines the deceptive and polarity columns. \n",
    "> This will give us four categories\n",
    "* truthful positive\n",
    "* truthful negative\n",
    "* deceptive positive\n",
    "* deceptive negative"
   ]
  },
  {
   "cell_type": "code",
   "execution_count": 57,
   "metadata": {
    "collapsed": true
   },
   "outputs": [],
   "source": [
    "df['category'] = df['deceptive'] + ' ' + df['polarity']"
   ]
  },
  {
   "cell_type": "code",
   "execution_count": 58,
   "metadata": {},
   "outputs": [
    {
     "data": {
      "text/html": [
       "<div>\n",
       "<style scoped>\n",
       "    .dataframe tbody tr th:only-of-type {\n",
       "        vertical-align: middle;\n",
       "    }\n",
       "\n",
       "    .dataframe tbody tr th {\n",
       "        vertical-align: top;\n",
       "    }\n",
       "\n",
       "    .dataframe thead th {\n",
       "        text-align: right;\n",
       "    }\n",
       "</style>\n",
       "<table border=\"1\" class=\"dataframe\">\n",
       "  <thead>\n",
       "    <tr style=\"text-align: right;\">\n",
       "      <th></th>\n",
       "      <th>deceptive</th>\n",
       "      <th>polarity</th>\n",
       "      <th>text</th>\n",
       "      <th>category</th>\n",
       "    </tr>\n",
       "  </thead>\n",
       "  <tbody>\n",
       "    <tr>\n",
       "      <th>0</th>\n",
       "      <td>truthful</td>\n",
       "      <td>positive</td>\n",
       "      <td>We stayed for a one night getaway with family ...</td>\n",
       "      <td>truthful positive</td>\n",
       "    </tr>\n",
       "    <tr>\n",
       "      <th>1</th>\n",
       "      <td>truthful</td>\n",
       "      <td>positive</td>\n",
       "      <td>Triple A rate with upgrade to view room was le...</td>\n",
       "      <td>truthful positive</td>\n",
       "    </tr>\n",
       "    <tr>\n",
       "      <th>2</th>\n",
       "      <td>truthful</td>\n",
       "      <td>positive</td>\n",
       "      <td>This comes a little late as I'm finally catchi...</td>\n",
       "      <td>truthful positive</td>\n",
       "    </tr>\n",
       "    <tr>\n",
       "      <th>3</th>\n",
       "      <td>truthful</td>\n",
       "      <td>positive</td>\n",
       "      <td>The Omni Chicago really delivers on all fronts...</td>\n",
       "      <td>truthful positive</td>\n",
       "    </tr>\n",
       "    <tr>\n",
       "      <th>4</th>\n",
       "      <td>truthful</td>\n",
       "      <td>positive</td>\n",
       "      <td>I asked for a high floor away from the elevato...</td>\n",
       "      <td>truthful positive</td>\n",
       "    </tr>\n",
       "  </tbody>\n",
       "</table>\n",
       "</div>"
      ],
      "text/plain": [
       "  deceptive  polarity                                               text  \\\n",
       "0  truthful  positive  We stayed for a one night getaway with family ...   \n",
       "1  truthful  positive  Triple A rate with upgrade to view room was le...   \n",
       "2  truthful  positive  This comes a little late as I'm finally catchi...   \n",
       "3  truthful  positive  The Omni Chicago really delivers on all fronts...   \n",
       "4  truthful  positive  I asked for a high floor away from the elevato...   \n",
       "\n",
       "            category  \n",
       "0  truthful positive  \n",
       "1  truthful positive  \n",
       "2  truthful positive  \n",
       "3  truthful positive  \n",
       "4  truthful positive  "
      ]
     },
     "execution_count": 58,
     "metadata": {},
     "output_type": "execute_result"
    }
   ],
   "source": [
    "df.head()"
   ]
  },
  {
   "cell_type": "markdown",
   "metadata": {},
   "source": [
    "##### Tokenize the text column using NLP"
   ]
  },
  {
   "cell_type": "code",
   "execution_count": 59,
   "metadata": {
    "collapsed": true
   },
   "outputs": [],
   "source": [
    "df['parse'] = df['text'].apply(nlp)"
   ]
  },
  {
   "cell_type": "code",
   "execution_count": 60,
   "metadata": {},
   "outputs": [
    {
     "data": {
      "text/html": [
       "<div>\n",
       "<style scoped>\n",
       "    .dataframe tbody tr th:only-of-type {\n",
       "        vertical-align: middle;\n",
       "    }\n",
       "\n",
       "    .dataframe tbody tr th {\n",
       "        vertical-align: top;\n",
       "    }\n",
       "\n",
       "    .dataframe thead th {\n",
       "        text-align: right;\n",
       "    }\n",
       "</style>\n",
       "<table border=\"1\" class=\"dataframe\">\n",
       "  <thead>\n",
       "    <tr style=\"text-align: right;\">\n",
       "      <th></th>\n",
       "      <th>deceptive</th>\n",
       "      <th>polarity</th>\n",
       "      <th>text</th>\n",
       "      <th>category</th>\n",
       "      <th>parse</th>\n",
       "    </tr>\n",
       "  </thead>\n",
       "  <tbody>\n",
       "    <tr>\n",
       "      <th>0</th>\n",
       "      <td>truthful</td>\n",
       "      <td>positive</td>\n",
       "      <td>We stayed for a one night getaway with family ...</td>\n",
       "      <td>truthful positive</td>\n",
       "      <td>(We, stayed, for, a, one, night, getaway, with...</td>\n",
       "    </tr>\n",
       "  </tbody>\n",
       "</table>\n",
       "</div>"
      ],
      "text/plain": [
       "  deceptive  polarity                                               text  \\\n",
       "0  truthful  positive  We stayed for a one night getaway with family ...   \n",
       "\n",
       "            category                                              parse  \n",
       "0  truthful positive  (We, stayed, for, a, one, night, getaway, with...  "
      ]
     },
     "execution_count": 60,
     "metadata": {},
     "output_type": "execute_result"
    }
   ],
   "source": [
    "df.head(1)"
   ]
  },
  {
   "cell_type": "code",
   "execution_count": 61,
   "metadata": {
    "collapsed": true
   },
   "outputs": [],
   "source": [
    "def get_metadata_from_corpus(corpus):\n",
    "    df = corpus.get_df()\n",
    "    return (df.deceptive + ', ' \n",
    "            + df.polarity + ', ')"
   ]
  },
  {
   "cell_type": "code",
   "execution_count": 62,
   "metadata": {
    "collapsed": true
   },
   "outputs": [],
   "source": [
    "# Create corpus and filter terms\n",
    "# to remove stopwords: \n",
    "    # from sklearn.feature_extraction.stop_words import ENGLISH_STOP_WORDS\n",
    "    # put this after .build()\n",
    "        # .remove_terms(ENGLISH_STOP_WORDS, ignore_absences=True)\n",
    "from sklearn.feature_extraction.stop_words import ENGLISH_STOP_WORDS\n",
    "\n",
    "four_square_corpus = (st.CorpusFromParsedDocuments(df, category_col = 'category', parsed_col = 'parse')\n",
    "                      .build()\n",
    "                      .compact(st.CompactTerms(minimum_term_count=2, slack=5))\n",
    "                      .compact(st.ClassPercentageCompactor(term_count=2)))"
   ]
  },
  {
   "cell_type": "code",
   "execution_count": 63,
   "metadata": {
    "collapsed": true
   },
   "outputs": [],
   "source": [
    "# Set up chart structure\n",
    "four_square = st.FourSquare(\n",
    "    four_square_corpus,\n",
    "    category_a_list=['truthful positive'],\n",
    "    category_b_list=['deceptive positive'],\n",
    "    not_category_a_list=['deceptive negative'],\n",
    "    not_category_b_list=['truthful negative'],\n",
    "    scorer=st.RankDifference(),\n",
    "    labels={'a': 'Truthful and Positive',\n",
    "            'b': 'Deceptive and Positive',\n",
    "            'not_a_and_not_b': 'Negative',\n",
    "            'a_and_b': 'Positive',\n",
    "            'a_and_not_b': 'Truthful',\n",
    "            'b_and_not_a': 'Deceptive',\n",
    "            'not_a': 'Deceptive and Negative',\n",
    "            'not_b': 'Truthful and Negative'})"
   ]
  },
  {
   "cell_type": "code",
   "execution_count": 64,
   "metadata": {
    "collapsed": true
   },
   "outputs": [],
   "source": [
    "html = st.produce_four_square_explorer(four_square=four_square,\n",
    "                                       x_label='Truthful - Deceptive',\n",
    "                                       y_label='Positive - Negative',\n",
    "                                       use_full_doc=True,\n",
    "                                       pmi_threshold_coefficient=0,\n",
    "                                       metadata=get_metadata_from_corpus(four_square_corpus))"
   ]
  },
  {
   "cell_type": "code",
   "execution_count": 66,
   "metadata": {},
   "outputs": [
    {
     "data": {
      "text/html": [
       "\n",
       "        <iframe\n",
       "            width=\"1600\"\n",
       "            height=\"900\"\n",
       "            src=\"semiotic_axes.html\"\n",
       "            frameborder=\"0\"\n",
       "            allowfullscreen\n",
       "        ></iframe>\n",
       "        "
      ],
      "text/plain": [
       "<IPython.lib.display.IFrame at 0x1d831353ac8>"
      ]
     },
     "execution_count": 66,
     "metadata": {},
     "output_type": "execute_result"
    }
   ],
   "source": [
    "file_name = 'semiotic_axes.html'\n",
    "open(file_name, 'wb').write('<center><h2>The Semiotics of Deceptive Hotel Reviews: Deceptive vs. Truthful, Positive vs. Negative</h2></center>'.encode('utf-8') + html.encode('utf-8'))\n",
    "IFrame(src=file_name, width = 1600, height=900)"
   ]
  },
  {
   "cell_type": "code",
   "execution_count": null,
   "metadata": {
    "collapsed": true
   },
   "outputs": [],
   "source": []
  },
  {
   "cell_type": "markdown",
   "metadata": {
    "collapsed": true
   },
   "source": [
    "##  Visualizing scikit-learn text classification weights"
   ]
  },
  {
   "cell_type": "code",
   "execution_count": 67,
   "metadata": {},
   "outputs": [
    {
     "data": {
      "text/html": [
       "<div>\n",
       "<style scoped>\n",
       "    .dataframe tbody tr th:only-of-type {\n",
       "        vertical-align: middle;\n",
       "    }\n",
       "\n",
       "    .dataframe tbody tr th {\n",
       "        vertical-align: top;\n",
       "    }\n",
       "\n",
       "    .dataframe thead th {\n",
       "        text-align: right;\n",
       "    }\n",
       "</style>\n",
       "<table border=\"1\" class=\"dataframe\">\n",
       "  <thead>\n",
       "    <tr style=\"text-align: right;\">\n",
       "      <th></th>\n",
       "      <th>deceptive</th>\n",
       "      <th>polarity</th>\n",
       "      <th>text</th>\n",
       "      <th>category</th>\n",
       "      <th>parse</th>\n",
       "    </tr>\n",
       "  </thead>\n",
       "  <tbody>\n",
       "    <tr>\n",
       "      <th>0</th>\n",
       "      <td>truthful</td>\n",
       "      <td>positive</td>\n",
       "      <td>We stayed for a one night getaway with family ...</td>\n",
       "      <td>truthful positive</td>\n",
       "      <td>(We, stayed, for, a, one, night, getaway, with...</td>\n",
       "    </tr>\n",
       "    <tr>\n",
       "      <th>1</th>\n",
       "      <td>truthful</td>\n",
       "      <td>positive</td>\n",
       "      <td>Triple A rate with upgrade to view room was le...</td>\n",
       "      <td>truthful positive</td>\n",
       "      <td>(Triple, A, rate, with, upgrade, to, view, roo...</td>\n",
       "    </tr>\n",
       "    <tr>\n",
       "      <th>2</th>\n",
       "      <td>truthful</td>\n",
       "      <td>positive</td>\n",
       "      <td>This comes a little late as I'm finally catchi...</td>\n",
       "      <td>truthful positive</td>\n",
       "      <td>(This, comes, a, little, late, as, I, 'm, fina...</td>\n",
       "    </tr>\n",
       "    <tr>\n",
       "      <th>3</th>\n",
       "      <td>truthful</td>\n",
       "      <td>positive</td>\n",
       "      <td>The Omni Chicago really delivers on all fronts...</td>\n",
       "      <td>truthful positive</td>\n",
       "      <td>(The, Omni, Chicago, really, delivers, on, all...</td>\n",
       "    </tr>\n",
       "    <tr>\n",
       "      <th>4</th>\n",
       "      <td>truthful</td>\n",
       "      <td>positive</td>\n",
       "      <td>I asked for a high floor away from the elevato...</td>\n",
       "      <td>truthful positive</td>\n",
       "      <td>(I, asked, for, a, high, floor, away, from, th...</td>\n",
       "    </tr>\n",
       "  </tbody>\n",
       "</table>\n",
       "</div>"
      ],
      "text/plain": [
       "  deceptive  polarity                                               text  \\\n",
       "0  truthful  positive  We stayed for a one night getaway with family ...   \n",
       "1  truthful  positive  Triple A rate with upgrade to view room was le...   \n",
       "2  truthful  positive  This comes a little late as I'm finally catchi...   \n",
       "3  truthful  positive  The Omni Chicago really delivers on all fronts...   \n",
       "4  truthful  positive  I asked for a high floor away from the elevato...   \n",
       "\n",
       "            category                                              parse  \n",
       "0  truthful positive  (We, stayed, for, a, one, night, getaway, with...  \n",
       "1  truthful positive  (Triple, A, rate, with, upgrade, to, view, roo...  \n",
       "2  truthful positive  (This, comes, a, little, late, as, I, 'm, fina...  \n",
       "3  truthful positive  (The, Omni, Chicago, really, delivers, on, all...  \n",
       "4  truthful positive  (I, asked, for, a, high, floor, away, from, th...  "
      ]
     },
     "execution_count": 67,
     "metadata": {},
     "output_type": "execute_result"
    }
   ],
   "source": [
    "df.head()"
   ]
  },
  {
   "cell_type": "code",
   "execution_count": 69,
   "metadata": {
    "collapsed": true
   },
   "outputs": [],
   "source": [
    "df['category'] = df['category'].str.replace('truthful positive', '0')\n",
    "df['category'] = df['category'].str.replace('truthful negative', '1')\n",
    "df['category'] = df['category'].str.replace('deceptive positive', '2')\n",
    "df['category'] = df['category'].str.replace('deceptive negative', '3')"
   ]
  },
  {
   "cell_type": "code",
   "execution_count": 70,
   "metadata": {
    "collapsed": true
   },
   "outputs": [],
   "source": [
    "target_names = ['truthful positive', 'truthful negative', 'deceptive positive', 'deceptive negative']"
   ]
  },
  {
   "cell_type": "code",
   "execution_count": 71,
   "metadata": {
    "collapsed": true
   },
   "outputs": [],
   "source": [
    "df = df.rename(columns={'category': 'Label', 'text': 'Data'})"
   ]
  },
  {
   "cell_type": "code",
   "execution_count": 72,
   "metadata": {
    "collapsed": true
   },
   "outputs": [],
   "source": [
    "#create seperate dataframes for data and labels. \n",
    "sms = df.copy()\n",
    "sms_data = df['Data'].copy()\n",
    "sms_labels = df['Label'].copy()\n",
    "\n",
    "#use .values.tolist() to transform dataframe into list\n",
    "sms = sms.values.tolist()\n",
    "sms_data = sms_data.values.tolist()\n",
    "sms_labels = sms_labels.values.tolist()"
   ]
  },
  {
   "cell_type": "code",
   "execution_count": 73,
   "metadata": {},
   "outputs": [
    {
     "data": {
      "text/plain": [
       "(1280, 1280, 320, 320)"
      ]
     },
     "execution_count": 73,
     "metadata": {},
     "output_type": "execute_result"
    }
   ],
   "source": [
    "#Create training and testing sets\n",
    "x_train, x_test, y_train, y_test = train_test_split(sms_data, sms_labels, test_size=0.2, random_state=0)\n",
    "len(x_train), len(y_train), len(x_test), len(y_test)"
   ]
  },
  {
   "cell_type": "code",
   "execution_count": 74,
   "metadata": {
    "collapsed": true
   },
   "outputs": [],
   "source": [
    "#y_train must be an array for this\n",
    "import numpy as np\n",
    "y_train1 = np.asarray(y_train)"
   ]
  },
  {
   "cell_type": "code",
   "execution_count": 75,
   "metadata": {
    "collapsed": true
   },
   "outputs": [],
   "source": [
    "#create vectors\n",
    "vectorizer = TfidfVectorizer(decode_error ='ignore', stop_words='english')\n",
    "tfidf_X = vectorizer.fit_transform(x_train)\n",
    "count_vectorizer = CountVectorizer(vocabulary=vectorizer.vocabulary_, decode_error ='ignore')"
   ]
  },
  {
   "cell_type": "code",
   "execution_count": 76,
   "metadata": {
    "collapsed": true
   },
   "outputs": [],
   "source": [
    "corpus = st.CorpusFromScikit(X=count_vectorizer.fit_transform(x_train), \n",
    "                             y=y_train1, \n",
    "                             feature_vocabulary=vectorizer.vocabulary_,\n",
    "                             category_names=target_names,\n",
    "                             raw_texts=x_train).build()"
   ]
  },
  {
   "cell_type": "code",
   "execution_count": 77,
   "metadata": {
    "collapsed": true
   },
   "outputs": [],
   "source": [
    "clf = CDClassifier(penalty=\"l1/l2\",\n",
    "                   loss=\"squared_hinge\",\n",
    "                   multiclass=True,\n",
    "                   max_iter=20,\n",
    "                   alpha=1e-4,\n",
    "                   C=1.0 / tfidf_X.shape[0],\n",
    "                   tol=1e-3)\n",
    "clf.fit(tfidf_X, y_train1)\n",
    "term_scores = clf.coef_[0]"
   ]
  },
  {
   "cell_type": "code",
   "execution_count": 81,
   "metadata": {},
   "outputs": [
    {
     "name": "stderr",
     "output_type": "stream",
     "text": [
      "C:\\Users\\nmins\\Anaconda2\\envs\\py36\\lib\\site-packages\\scattertext\\TermDocMatrix.py:170: FutureWarning: elementwise comparison failed; returning scalar instead, but in the future will perform elementwise comparison\n",
      "  freq_mat[:, cat_i] = self._X[self._y == cat_i, :].sum(axis=0)\n"
     ]
    },
    {
     "data": {
      "text/plain": [
       "1928105"
      ]
     },
     "execution_count": 81,
     "metadata": {},
     "output_type": "execute_result"
    }
   ],
   "source": [
    "html = st.produce_frequency_explorer(corpus, 'truthful positive', scores=term_scores,\n",
    "                                     use_term_significance=False,\n",
    "                                     terms_to_include=st.AutoTermSelector.get_selected_terms(corpus, term_scores, 4000),\n",
    "                                     metadata = y_train1)\n",
    "open(\"class.html\", 'wb').write(html.encode('utf-8'))"
   ]
  },
  {
   "cell_type": "code",
   "execution_count": 82,
   "metadata": {},
   "outputs": [
    {
     "data": {
      "text/html": [
       "\n",
       "        <iframe\n",
       "            width=\"1500\"\n",
       "            height=\"700\"\n",
       "            src=\"class.html\"\n",
       "            frameborder=\"0\"\n",
       "            allowfullscreen\n",
       "        ></iframe>\n",
       "        "
      ],
      "text/plain": [
       "<IPython.lib.display.IFrame at 0x1d82c28b668>"
      ]
     },
     "execution_count": 82,
     "metadata": {},
     "output_type": "execute_result"
    }
   ],
   "source": [
    "from IPython.display import IFrame\n",
    "from IPython.core.display import display, HTML\n",
    "file_name = 'class.html'\n",
    "file = open(file_name, 'wb').write(html.encode('utf-8'))\n",
    "IFrame(src=file_name, width = 1500, height=700)"
   ]
  },
  {
   "cell_type": "markdown",
   "metadata": {},
   "source": [
    "### Use nbconvert to keep the outputs that are HTML\n",
    "https://github.com/jupyter/nbconvert"
   ]
  },
  {
   "cell_type": "code",
   "execution_count": 77,
   "metadata": {},
   "outputs": [
    {
     "name": "stderr",
     "output_type": "stream",
     "text": [
      "[NbConvertApp] WARNING | pattern u'to' matched no files\n",
      "[NbConvertApp] WARNING | pattern u'html' matched no files\n",
      "[NbConvertApp] Converting notebook Minshew_Tutorial.ipynb to html\n",
      "[NbConvertApp] Writing 467453 bytes to Minshew_Tutorial.html\n"
     ]
    }
   ],
   "source": [
    "! jupyter nbconvert to html Minshew_Tutorial.ipynb"
   ]
  },
  {
   "cell_type": "code",
   "execution_count": null,
   "metadata": {
    "collapsed": true
   },
   "outputs": [],
   "source": []
  }
 ],
 "metadata": {
  "kernelspec": {
   "display_name": "Python 3",
   "language": "python",
   "name": "python3"
  },
  "language_info": {
   "codemirror_mode": {
    "name": "ipython",
    "version": 3
   },
   "file_extension": ".py",
   "mimetype": "text/x-python",
   "name": "python",
   "nbconvert_exporter": "python",
   "pygments_lexer": "ipython3",
   "version": "3.6.4"
  }
 },
 "nbformat": 4,
 "nbformat_minor": 2
}
