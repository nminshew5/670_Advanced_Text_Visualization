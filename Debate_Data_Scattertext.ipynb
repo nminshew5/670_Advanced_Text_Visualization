{
 "cells": [
  {
   "cell_type": "markdown",
   "metadata": {},
   "source": [
    "# Scattertext for Descriptive Text Analytics and Visualization Using Data from the 2016 Presidential Debates\n",
    "---"
   ]
  },
  {
   "cell_type": "markdown",
   "metadata": {},
   "source": [
    "Now that we have reviewed basic visualization of word frequency, let's look at some more advanced tools. Scattertext is a comprehensive package that provides tools for visualizing terms and associations, topics and categories, term scores, text classification weights, semiotic squares, word similarity, and even emojis! \n",
    "\n",
    "We are going to start with visualizing terms and associations, then we will explore some of the more advanced topics. \n",
    "\n",
    "> https://github.com/JasonKessler/Scattertext-PyData"
   ]
  },
  {
   "cell_type": "markdown",
   "metadata": {},
   "source": [
    "### First ensure that you installed all of the packages listed in the read me"
   ]
  },
  {
   "cell_type": "markdown",
   "metadata": {},
   "source": [
    "### Import Packages"
   ]
  },
  {
   "cell_type": "code",
   "execution_count": 3,
   "metadata": {
    "collapsed": true
   },
   "outputs": [],
   "source": [
    "import scattertext as st\n",
    "import spacy\n",
    "from pprint import pprint\n",
    "import en_core_web_sm\n",
    "\n",
    "#CSV\n",
    "import csv\n",
    "from collections import Counter\n",
    "\n",
    "#pandas\n",
    "import pandas as pd\n",
    "\n",
    "#Matplotlib\n",
    "import matplotlib.pyplot as plt\n",
    "% matplotlib inline\n",
    "\n",
    "#numpy\n",
    "import numpy as np\n",
    "\n",
    "# nltk\n",
    "import nltk\n",
    "# stopwords, FreqDist, word_tokenize\n",
    "from nltk.corpus import stopwords\n",
    "from nltk import FreqDist, word_tokenize\n",
    "from nltk.stem.porter import PorterStemmer\n",
    "from nltk.stem import WordNetLemmatizer\n",
    "from nltk.corpus import stopwords\n",
    "\n",
    "#regular expression\n",
    "import re\n",
    "\n",
    "#seaborn\n",
    "import seaborn as sns\n",
    "\n",
    "#import packages for scatter text\n",
    "import scattertext as st\n",
    "import spacy\n",
    "from pprint import pprint\n",
    "import en_core_web_sm\n",
    "\n",
    "#SKlearn packages\n",
    "import sklearn\n",
    "from lightning.classification import CDClassifier\n",
    "from sklearn.feature_extraction.text import CountVectorizer, TfidfVectorizer\n",
    "# feature engineering (words to vectors)\n",
    "from sklearn.feature_extraction.text import TfidfVectorizer\n",
    "# classification algorithms (or classifiers)\n",
    "from sklearn.naive_bayes import MultinomialNB\n",
    "from sklearn.neighbors import KNeighborsClassifier\n",
    "from sklearn.svm import SVC, LinearSVC\n",
    "# build a pipeline\n",
    "from sklearn.pipeline import Pipeline\n",
    "# model evaluation, validation\n",
    "from sklearn.metrics import classification_report, f1_score, accuracy_score, confusion_matrix\n",
    "from sklearn.model_selection import StratifiedKFold, cross_val_score, train_test_split, GridSearchCV \n",
    "from sklearn import metrics\n",
    "from sklearn.metrics import roc_curve, auc\n",
    "#pip install scikit-plot \n",
    "import scikitplot as skplt"
   ]
  },
  {
   "cell_type": "markdown",
   "metadata": {},
   "source": [
    "#### Reload and Process the debate dataset\n",
    "* Scattertext and spaCY make the preprocessing very easy\n",
    "* All we need to do is create a dataframe with two columns (category and text data)\n",
    " 1. Speaker (Trump and Clinton) these are our categories\n",
    " 2. Text (the text data for analysis)"
   ]
  },
  {
   "cell_type": "code",
   "execution_count": 4,
   "metadata": {
    "collapsed": true
   },
   "outputs": [],
   "source": [
    "df = pd.read_csv(\"data/debate.csv\", encoding = 'iso-8859-1')\n",
    "del df['Line']\n",
    "del df['Date']\n",
    "df_clinton = df[df.Speaker==\"Clinton\"].copy()\n",
    "df_trump = df[df.Speaker==\"Trump\"].copy()\n",
    "df3 = df_clinton.append(df_trump)"
   ]
  },
  {
   "cell_type": "markdown",
   "metadata": {},
   "source": [
    "### Turn the data frame into a Scattertext Corpus\n",
    "* We want to look for differences between Trump and Clinton so we set (category_col='Speaker')\n",
    "* We want to analyize the text for each canidate so we set (text_col = 'Text')\n",
    "* We are not going to remove stopwords for this visualization because they might actually help provide insight in this use case (if you want to use stop word the code is included below)\n",
    ">Jason Kessler the creator of Scattertext said \"function words can reveal interesting psychological traits\"\n",
    "\n",
    "* ##### To remove stopwords: \n",
    " * from sklearn.feature_extraction.stop_words import ENGLISH_STOP_WORDS\n",
    " * put this after .build()\n",
    "   * .remove_terms(ENGLISH_STOP_WORDS, ignore_absences=True)\n",
    "\n",
    "* ##### spaCY error troubleshooting\n",
    " * If you get an error for spaCY, it may not be able to load the local english langauge. Replace 'nlp = spacy.load('en')' with:\n",
    "  * nlp = en_core_web_sm.load()"
   ]
  },
  {
   "cell_type": "code",
   "execution_count": 5,
   "metadata": {
    "collapsed": true
   },
   "outputs": [],
   "source": [
    "nlp = spacy.load('en') \n",
    "corpus = st.CorpusFromPandas(df3, category_col='Speaker', text_col='Text', nlp=nlp).build()"
   ]
  },
  {
   "cell_type": "markdown",
   "metadata": {},
   "source": [
    "##### Let's see characteristic terms in the corpus, and terms that are most associated with both Trump and Hillary"
   ]
  },
  {
   "cell_type": "code",
   "execution_count": 7,
   "metadata": {},
   "outputs": [
    {
     "name": "stdout",
     "output_type": "stream",
     "text": [
      "['obamacare', 'wikileaks', 'raqqa', 'obama', 'outsmarted', 'mosul', 'baghdadi', 'irredeemable', 'tweeting', 'underleveraged']\n"
     ]
    }
   ],
   "source": [
    "print(list(corpus.get_scaled_f_scores_vs_background().index[:10]))"
   ]
  },
  {
   "cell_type": "markdown",
   "metadata": {},
   "source": [
    "##### Let's see characteristic terms in the corpus, and terms that are most associated with Trump"
   ]
  },
  {
   "cell_type": "code",
   "execution_count": 8,
   "metadata": {},
   "outputs": [
    {
     "name": "stdout",
     "output_type": "stream",
     "text": [
      "['hillary',\n",
      " \"she 's\",\n",
      " 'she',\n",
      " 'bad',\n",
      " 'tell you',\n",
      " 'tell',\n",
      " \"they 're\",\n",
      " 'clinton',\n",
      " 'her',\n",
      " 'and she']\n"
     ]
    }
   ],
   "source": [
    "term_freq_df = corpus.get_term_freq_df()\n",
    "term_freq_df['Trump Score'] = corpus.get_scaled_f_scores('Trump')\n",
    "pprint(list(term_freq_df.sort_values(by='Trump Score', ascending=False).index[:10]))"
   ]
  },
  {
   "cell_type": "markdown",
   "metadata": {},
   "source": [
    "##### Let's see characteristic terms in the corpus, and terms that are most associated with Clinton"
   ]
  },
  {
   "cell_type": "code",
   "execution_count": 9,
   "metadata": {},
   "outputs": [
    {
     "name": "stdout",
     "output_type": "stream",
     "text": [
      "['donald',\n",
      " 'need to',\n",
      " 'his',\n",
      " 'that he',\n",
      " \"'ve got\",\n",
      " 'he',\n",
      " 'i want',\n",
      " 'that is',\n",
      " 'work',\n",
      " 'he has']\n"
     ]
    }
   ],
   "source": [
    "term_freq_df = corpus.get_term_freq_df()\n",
    "term_freq_df['Clinton Score'] = corpus.get_scaled_f_scores('Clinton')\n",
    "pprint(list(term_freq_df.sort_values(by='Clinton Score', ascending=False).index[:10]))"
   ]
  },
  {
   "cell_type": "markdown",
   "metadata": {},
   "source": [
    "## Visualization of terms with Scattertext\n",
    "* Using the corpus we created the produce_scattertext_explorer function will create an interactive visualization of terms\n",
    "* Hillary Clinton will be plotted on the Y axis\n",
    "* Donald Trump will be plotted on the X axis\n",
    "* You can click on a term and see the sentences that Hillary Clinton or Donald Trump used them in. \n",
    "* We will also use Iframe so we can embed the HTML output in the notebook"
   ]
  },
  {
   "cell_type": "code",
   "execution_count": 10,
   "metadata": {},
   "outputs": [
    {
     "data": {
      "text/plain": [
       "736831"
      ]
     },
     "execution_count": 10,
     "metadata": {},
     "output_type": "execute_result"
    }
   ],
   "source": [
    "# category = 'Clinton' (this creates a category for Hillary Clinton)\n",
    "# not_category_name = 'Donald Trump' every thing that is not in the clinton category is in the Trump category\n",
    "html = st.produce_scattertext_explorer(corpus, category='Clinton', category_name='Hillary Clinton', \n",
    "                                       not_category_name='Donald Trump', width_in_pixels=1000, metadata=df3['Speaker'])\n",
    "open(\"TrumpClinton_Visualization.html\", 'wb').write(html.encode('utf-8'))"
   ]
  },
  {
   "cell_type": "markdown",
   "metadata": {},
   "source": [
    "###### This will also create a standalone HTML file that you can open from your file explorer"
   ]
  },
  {
   "cell_type": "code",
   "execution_count": 12,
   "metadata": {},
   "outputs": [
    {
     "data": {
      "text/html": [
       "\n",
       "        <iframe\n",
       "            width=\"1300\"\n",
       "            height=\"800\"\n",
       "            src=\"TrumpClinton_Visualization.html\"\n",
       "            frameborder=\"0\"\n",
       "            allowfullscreen\n",
       "        ></iframe>\n",
       "        "
      ],
      "text/plain": [
       "<IPython.lib.display.IFrame at 0x1bb5d0ca8d0>"
      ]
     },
     "execution_count": 12,
     "metadata": {},
     "output_type": "execute_result"
    }
   ],
   "source": [
    "from IPython.display import IFrame\n",
    "from IPython.core.display import display, HTML\n",
    "file_name = 'TrumpClinton_Visualization.html'\n",
    "open(file_name, 'wb').write(html.encode('utf-8'))\n",
    "IFrame(src=file_name, width = 1300, height=800)"
   ]
  },
  {
   "cell_type": "markdown",
   "metadata": {},
   "source": [
    "# Topic Modeling Visualization Using Scattertext\n",
    ">Instead of looking for common terms we will be looking for topics that Hillary Clinton and Donald Trump had in thier debates"
   ]
  },
  {
   "cell_type": "code",
   "execution_count": 13,
   "metadata": {},
   "outputs": [
    {
     "data": {
      "text/html": [
       "<div>\n",
       "<style scoped>\n",
       "    .dataframe tbody tr th:only-of-type {\n",
       "        vertical-align: middle;\n",
       "    }\n",
       "\n",
       "    .dataframe tbody tr th {\n",
       "        vertical-align: top;\n",
       "    }\n",
       "\n",
       "    .dataframe thead th {\n",
       "        text-align: right;\n",
       "    }\n",
       "</style>\n",
       "<table border=\"1\" class=\"dataframe\">\n",
       "  <thead>\n",
       "    <tr style=\"text-align: right;\">\n",
       "      <th></th>\n",
       "      <th>Speaker</th>\n",
       "      <th>Text</th>\n",
       "    </tr>\n",
       "  </thead>\n",
       "  <tbody>\n",
       "    <tr>\n",
       "      <th>2</th>\n",
       "      <td>Clinton</td>\n",
       "      <td>How are you, Donald?</td>\n",
       "    </tr>\n",
       "  </tbody>\n",
       "</table>\n",
       "</div>"
      ],
      "text/plain": [
       "   Speaker                  Text\n",
       "2  Clinton  How are you, Donald?"
      ]
     },
     "execution_count": 13,
     "metadata": {},
     "output_type": "execute_result"
    }
   ],
   "source": [
    "df3.head(1)"
   ]
  },
  {
   "cell_type": "markdown",
   "metadata": {},
   "source": [
    "##### Create a corpus of topics/categories rather than terms. We will do this using **FeatsOnlyFromEmpath**"
   ]
  },
  {
   "cell_type": "code",
   "execution_count": 14,
   "metadata": {
    "collapsed": true
   },
   "outputs": [],
   "source": [
    "empath_corpus = st.CorpusFromParsedDocuments(df3, category_col='Speaker', \n",
    "                                             feats_from_spacy_doc=st.FeatsFromOnlyEmpath(), \n",
    "                                             parsed_col='Text').build()"
   ]
  },
  {
   "cell_type": "code",
   "execution_count": 15,
   "metadata": {},
   "outputs": [
    {
     "data": {
      "text/plain": [
       "661421"
      ]
     },
     "execution_count": 15,
     "metadata": {},
     "output_type": "execute_result"
    }
   ],
   "source": [
    "html = st.produce_scattertext_explorer(empath_corpus, category= 'Clinton', category_name='Hillary Clinton', \n",
    "                                       not_category_name='Donald Trump', width_in_pixels=1000, \n",
    "                                       metadata=df3['Speaker'], use_non_text_features=True, use_full_doc=True)\n",
    "open(\"TrumpClintonDebate-Empath.html\", 'wb').write(html.encode('utf-8'))"
   ]
  },
  {
   "cell_type": "code",
   "execution_count": 16,
   "metadata": {},
   "outputs": [
    {
     "data": {
      "text/html": [
       "\n",
       "        <iframe\n",
       "            width=\"1500\"\n",
       "            height=\"700\"\n",
       "            src=\"TrumpClintonDebate-Empath.html\"\n",
       "            frameborder=\"0\"\n",
       "            allowfullscreen\n",
       "        ></iframe>\n",
       "        "
      ],
      "text/plain": [
       "<IPython.lib.display.IFrame at 0x1bb5d6be860>"
      ]
     },
     "execution_count": 16,
     "metadata": {},
     "output_type": "execute_result"
    }
   ],
   "source": [
    "from IPython.display import IFrame\n",
    "from IPython.core.display import display, HTML\n",
    "file_name = 'TrumpClintonDebate-Empath.html'\n",
    "file = open(file_name, 'wb').write(html.encode('utf-8'))\n",
    "IFrame(src=file_name, width = 1500, height=700)"
   ]
  },
  {
   "cell_type": "code",
   "execution_count": null,
   "metadata": {
    "collapsed": true
   },
   "outputs": [],
   "source": []
  }
 ],
 "metadata": {
  "kernelspec": {
   "display_name": "Python 3",
   "language": "python",
   "name": "python3"
  },
  "language_info": {
   "codemirror_mode": {
    "name": "ipython",
    "version": 3
   },
   "file_extension": ".py",
   "mimetype": "text/x-python",
   "name": "python",
   "nbconvert_exporter": "python",
   "pygments_lexer": "ipython3",
   "version": "3.6.4"
  }
 },
 "nbformat": 4,
 "nbformat_minor": 2
}
